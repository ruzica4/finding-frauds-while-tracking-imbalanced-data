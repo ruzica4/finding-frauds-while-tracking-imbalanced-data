{
  "cells": [
    {
      "cell_type": "code",
      "source": [
        "from sklearn.preprocessing import MinMaxScaler\n",
        "from sklearn.impute import SimpleImputer\n",
        "from sklearn.model_selection import train_test_split, GridSearchCV, RepeatedStratifiedKFold\n",
        "from sklearn.linear_model import LogisticRegression\n",
        "from sklearn.metrics import accuracy_score, confusion_matrix, precision_score, recall_score, roc_auc_score, f1_score, classification_report\n",
        "from sklearn.ensemble import RandomForestClassifier\n",
        "from sklearn.tree import DecisionTreeClassifier\n",
        "\n",
        "from xgboost import XGBClassifier, DMatrix\n",
        "\n",
        "import numpy as np\n",
        "\n",
        "import pandas as pd\n",
        "pd.set_option('display.max_colwidth', 1000, 'display.max_rows', None, 'display.max_columns', None)\n",
        "\n",
        "import matplotlib.pyplot as plt\n",
        "%matplotlib inline\n",
        "plt.style.use('ggplot')\n",
        "\n",
        "import warnings\n",
        "warnings.filterwarnings('ignore')\n",
        "\n",
        "import dask.dataframe as dd "
      ],
      "outputs": [
        {
          "output_type": "display_data",
          "data": {
            "application/vnd.livy.statement-meta+json": {
              "spark_pool": "Spark11",
              "session_id": 19,
              "statement_id": 45,
              "state": "finished",
              "livy_statement_state": "available",
              "queued_time": "2022-06-17T16:55:47.3247152Z",
              "session_start_time": null,
              "execution_start_time": "2022-06-17T16:55:47.4424623Z",
              "execution_finish_time": "2022-06-17T16:55:47.6202634Z"
            },
            "text/plain": "StatementMeta(Spark11, 19, 45, Finished, Available)"
          },
          "metadata": {}
        }
      ],
      "execution_count": 45,
      "metadata": {}
    },
    {
      "cell_type": "code",
      "source": [
        "# Loading cleaned data\n",
        "\n",
        "df = dd.read_csv('***/Cleaned_data.csv')\n",
        "data = df.compute() \n",
        "\n",
        "data_copy = df.compute()"
      ],
      "outputs": [
        {
          "output_type": "display_data",
          "data": {
            "application/vnd.livy.statement-meta+json": {
              "spark_pool": "Spark11",
              "session_id": 19,
              "statement_id": 2,
              "state": "finished",
              "livy_statement_state": "available",
              "queued_time": "2022-06-17T16:09:06.3283442Z",
              "session_start_time": null,
              "execution_start_time": "2022-06-17T16:11:54.8697798Z",
              "execution_finish_time": "2022-06-17T16:12:09.5780268Z"
            },
            "text/plain": "StatementMeta(Spark11, 19, 2, Finished, Available)"
          },
          "metadata": {}
        }
      ],
      "execution_count": 2,
      "metadata": {
        "jupyter": {
          "source_hidden": false,
          "outputs_hidden": false
        },
        "nteract": {
          "transient": {
            "deleting": false
          }
        }
      }
    },
    {
      "cell_type": "code",
      "source": [
        "# Removing extra-added column\n",
        "\n",
        "data = data.loc[:, ~df.columns.str.contains('^Unnamed')]\n",
        "data.drop(['annual_inc_lg', 'tot_cur_bal_lg'], inplace=True, axis=1)"
      ],
      "outputs": [
        {
          "output_type": "display_data",
          "data": {
            "application/vnd.livy.statement-meta+json": {
              "spark_pool": "Spark11",
              "session_id": 19,
              "statement_id": 3,
              "state": "finished",
              "livy_statement_state": "available",
              "queued_time": "2022-06-17T16:09:06.3307783Z",
              "session_start_time": null,
              "execution_start_time": "2022-06-17T16:12:09.6875915Z",
              "execution_finish_time": "2022-06-17T16:12:10.7186251Z"
            },
            "text/plain": "StatementMeta(Spark11, 19, 3, Finished, Available)"
          },
          "metadata": {}
        }
      ],
      "execution_count": 3,
      "metadata": {
        "jupyter": {
          "source_hidden": false,
          "outputs_hidden": false
        },
        "nteract": {
          "transient": {
            "deleting": false
          }
        }
      }
    },
    {
      "cell_type": "code",
      "source": [
        "data.head()"
      ],
      "outputs": [
        {
          "output_type": "display_data",
          "data": {
            "application/vnd.livy.statement-meta+json": {
              "spark_pool": "Spark11",
              "session_id": 19,
              "statement_id": 4,
              "state": "finished",
              "livy_statement_state": "available",
              "queued_time": "2022-06-17T16:09:06.3323751Z",
              "session_start_time": null,
              "execution_start_time": "2022-06-17T16:12:10.8216319Z",
              "execution_finish_time": "2022-06-17T16:12:10.9718852Z"
            },
            "text/plain": "StatementMeta(Spark11, 19, 4, Finished, Available)"
          },
          "metadata": {}
        },
        {
          "output_type": "execute_result",
          "execution_count": 11,
          "data": {
            "text/plain": "   installment addr_state  annual_inc  earliest_cr_line emp_length  \\\n0       123.03         PA     55000.0              2003  10+ years   \n1       820.28         SD     65000.0              1999  10+ years   \n2       432.66         IL     63000.0              2000  10+ years   \n3       289.91         PA    104433.0              1998    3 years   \n4       405.18         GA     34000.0              1987    4 years   \n\n  home_ownership application_type  int_rate  loan_amnt  num_actv_bc_tl  \\\n0       MORTGAGE       Individual     13.99     3600.0             2.0   \n1       MORTGAGE       Individual     11.99    24700.0             5.0   \n2       MORTGAGE        Joint App     10.78    20000.0             2.0   \n3       MORTGAGE       Individual     22.45    10400.0             4.0   \n4           RENT       Individual     13.44    11950.0             2.0   \n\n   loan_status  mort_acc  tot_cur_bal  open_acc  pub_rec             purpose  \\\n0            0       1.0     144904.0       7.0      0.0  debt_consolidation   \n1            0       4.0     204396.0      22.0      0.0      small_business   \n2            0       5.0     189699.0       6.0      0.0    home_improvement   \n3            0       6.0     331730.0      12.0      0.0      major_purchase   \n4            0       0.0      12798.0       5.0      0.0  debt_consolidation   \n\n   revol_util sub_grade  term  total_acc verification_status   fico  \n0        29.7        C4    36       13.0        Not Verified  677.0  \n1        19.2        C1    36       38.0        Not Verified  717.0  \n2        56.2        B4    60       18.0        Not Verified  697.0  \n3        64.5        F1    60       35.0     Source Verified  697.0  \n4        68.4        C3    36        6.0     Source Verified  692.0  ",
            "text/html": "<div>\n<style scoped>\n    .dataframe tbody tr th:only-of-type {\n        vertical-align: middle;\n    }\n\n    .dataframe tbody tr th {\n        vertical-align: top;\n    }\n\n    .dataframe thead th {\n        text-align: right;\n    }\n</style>\n<table border=\"1\" class=\"dataframe\">\n  <thead>\n    <tr style=\"text-align: right;\">\n      <th></th>\n      <th>installment</th>\n      <th>addr_state</th>\n      <th>annual_inc</th>\n      <th>earliest_cr_line</th>\n      <th>emp_length</th>\n      <th>home_ownership</th>\n      <th>application_type</th>\n      <th>int_rate</th>\n      <th>loan_amnt</th>\n      <th>num_actv_bc_tl</th>\n      <th>loan_status</th>\n      <th>mort_acc</th>\n      <th>tot_cur_bal</th>\n      <th>open_acc</th>\n      <th>pub_rec</th>\n      <th>purpose</th>\n      <th>revol_util</th>\n      <th>sub_grade</th>\n      <th>term</th>\n      <th>total_acc</th>\n      <th>verification_status</th>\n      <th>fico</th>\n    </tr>\n  </thead>\n  <tbody>\n    <tr>\n      <th>0</th>\n      <td>123.03</td>\n      <td>PA</td>\n      <td>55000.0</td>\n      <td>2003</td>\n      <td>10+ years</td>\n      <td>MORTGAGE</td>\n      <td>Individual</td>\n      <td>13.99</td>\n      <td>3600.0</td>\n      <td>2.0</td>\n      <td>0</td>\n      <td>1.0</td>\n      <td>144904.0</td>\n      <td>7.0</td>\n      <td>0.0</td>\n      <td>debt_consolidation</td>\n      <td>29.7</td>\n      <td>C4</td>\n      <td>36</td>\n      <td>13.0</td>\n      <td>Not Verified</td>\n      <td>677.0</td>\n    </tr>\n    <tr>\n      <th>1</th>\n      <td>820.28</td>\n      <td>SD</td>\n      <td>65000.0</td>\n      <td>1999</td>\n      <td>10+ years</td>\n      <td>MORTGAGE</td>\n      <td>Individual</td>\n      <td>11.99</td>\n      <td>24700.0</td>\n      <td>5.0</td>\n      <td>0</td>\n      <td>4.0</td>\n      <td>204396.0</td>\n      <td>22.0</td>\n      <td>0.0</td>\n      <td>small_business</td>\n      <td>19.2</td>\n      <td>C1</td>\n      <td>36</td>\n      <td>38.0</td>\n      <td>Not Verified</td>\n      <td>717.0</td>\n    </tr>\n    <tr>\n      <th>2</th>\n      <td>432.66</td>\n      <td>IL</td>\n      <td>63000.0</td>\n      <td>2000</td>\n      <td>10+ years</td>\n      <td>MORTGAGE</td>\n      <td>Joint App</td>\n      <td>10.78</td>\n      <td>20000.0</td>\n      <td>2.0</td>\n      <td>0</td>\n      <td>5.0</td>\n      <td>189699.0</td>\n      <td>6.0</td>\n      <td>0.0</td>\n      <td>home_improvement</td>\n      <td>56.2</td>\n      <td>B4</td>\n      <td>60</td>\n      <td>18.0</td>\n      <td>Not Verified</td>\n      <td>697.0</td>\n    </tr>\n    <tr>\n      <th>3</th>\n      <td>289.91</td>\n      <td>PA</td>\n      <td>104433.0</td>\n      <td>1998</td>\n      <td>3 years</td>\n      <td>MORTGAGE</td>\n      <td>Individual</td>\n      <td>22.45</td>\n      <td>10400.0</td>\n      <td>4.0</td>\n      <td>0</td>\n      <td>6.0</td>\n      <td>331730.0</td>\n      <td>12.0</td>\n      <td>0.0</td>\n      <td>major_purchase</td>\n      <td>64.5</td>\n      <td>F1</td>\n      <td>60</td>\n      <td>35.0</td>\n      <td>Source Verified</td>\n      <td>697.0</td>\n    </tr>\n    <tr>\n      <th>4</th>\n      <td>405.18</td>\n      <td>GA</td>\n      <td>34000.0</td>\n      <td>1987</td>\n      <td>4 years</td>\n      <td>RENT</td>\n      <td>Individual</td>\n      <td>13.44</td>\n      <td>11950.0</td>\n      <td>2.0</td>\n      <td>0</td>\n      <td>0.0</td>\n      <td>12798.0</td>\n      <td>5.0</td>\n      <td>0.0</td>\n      <td>debt_consolidation</td>\n      <td>68.4</td>\n      <td>C3</td>\n      <td>36</td>\n      <td>6.0</td>\n      <td>Source Verified</td>\n      <td>692.0</td>\n    </tr>\n  </tbody>\n</table>\n</div>"
          },
          "metadata": {}
        }
      ],
      "execution_count": 4,
      "metadata": {
        "jupyter": {
          "source_hidden": false,
          "outputs_hidden": false
        },
        "nteract": {
          "transient": {
            "deleting": false
          }
        }
      }
    },
    {
      "cell_type": "code",
      "source": [
        "# Getting non-categorical (numerical) columns - will be used to check correlation with the target value\n",
        "\n",
        "non_categorical = data.select_dtypes(exclude=['object']).columns\n",
        "check_correlation = list(non_categorical.copy())\n",
        "check_correlation.insert(0, check_correlation.pop(check_correlation.index('loan_status')))"
      ],
      "outputs": [
        {
          "output_type": "display_data",
          "data": {
            "application/vnd.livy.statement-meta+json": {
              "spark_pool": "Spark11",
              "session_id": 19,
              "statement_id": 5,
              "state": "finished",
              "livy_statement_state": "available",
              "queued_time": "2022-06-17T16:09:06.3338244Z",
              "session_start_time": null,
              "execution_start_time": "2022-06-17T16:12:11.580942Z",
              "execution_finish_time": "2022-06-17T16:12:11.7394442Z"
            },
            "text/plain": "StatementMeta(Spark11, 19, 5, Finished, Available)"
          },
          "metadata": {}
        }
      ],
      "execution_count": 5,
      "metadata": {
        "jupyter": {
          "source_hidden": false,
          "outputs_hidden": false
        },
        "nteract": {
          "transient": {
            "deleting": false
          }
        }
      }
    },
    {
      "cell_type": "code",
      "source": [
        "def loan_status_lin_corr():\n",
        "    linear_corr = pd.DataFrame()\n",
        "\n",
        "    for col in data[check_correlation].columns:\n",
        "        linear_corr.loc[col, 'pearson_corr'] = data[col].corr(data['loan_status'])\n",
        "        linear_corr['abs_pearson_corr'] = abs(linear_corr['pearson_corr'])\n",
        "    \n",
        "    linear_corr.sort_values('abs_pearson_corr', ascending=False, inplace=True)\n",
        "    linear_corr.drop('abs_pearson_corr', axis=1, inplace=True)\n",
        "    linear_corr.drop('loan_status', axis=0, inplace=True)\n",
        "\n",
        "    return linear_corr"
      ],
      "outputs": [
        {
          "output_type": "display_data",
          "data": {
            "application/vnd.livy.statement-meta+json": {
              "spark_pool": "Spark11",
              "session_id": 19,
              "statement_id": 6,
              "state": "finished",
              "livy_statement_state": "available",
              "queued_time": "2022-06-17T16:09:06.3353062Z",
              "session_start_time": null,
              "execution_start_time": "2022-06-17T16:12:11.8406952Z",
              "execution_finish_time": "2022-06-17T16:12:11.9967935Z"
            },
            "text/plain": "StatementMeta(Spark11, 19, 6, Finished, Available)"
          },
          "metadata": {}
        }
      ],
      "execution_count": 6,
      "metadata": {
        "jupyter": {
          "source_hidden": false,
          "outputs_hidden": false
        },
        "nteract": {
          "transient": {
            "deleting": false
          }
        }
      }
    },
    {
      "cell_type": "code",
      "source": [
        "lin_corr = loan_status_lin_corr()\n",
        "lin_corr"
      ],
      "outputs": [
        {
          "output_type": "display_data",
          "data": {
            "application/vnd.livy.statement-meta+json": {
              "spark_pool": "Spark11",
              "session_id": 19,
              "statement_id": 7,
              "state": "finished",
              "livy_statement_state": "available",
              "queued_time": "2022-06-17T16:09:06.3415591Z",
              "session_start_time": null,
              "execution_start_time": "2022-06-17T16:12:12.1048532Z",
              "execution_finish_time": "2022-06-17T16:12:12.6153225Z"
            },
            "text/plain": "StatementMeta(Spark11, 19, 7, Finished, Available)"
          },
          "metadata": {}
        },
        {
          "output_type": "execute_result",
          "execution_count": 17,
          "data": {
            "text/plain": "                  pearson_corr\nint_rate              0.260228\nterm                  0.177520\nfico                 -0.128228\nmort_acc             -0.076709\ntot_cur_bal          -0.071234\nloan_amnt             0.063970\nrevol_util            0.058190\ninstallment           0.050133\nearliest_cr_line      0.043544\nannual_inc           -0.042430\nnum_actv_bc_tl        0.040594\npub_rec               0.027708\nopen_acc              0.025661\ntotal_acc            -0.013136",
            "text/html": "<div>\n<style scoped>\n    .dataframe tbody tr th:only-of-type {\n        vertical-align: middle;\n    }\n\n    .dataframe tbody tr th {\n        vertical-align: top;\n    }\n\n    .dataframe thead th {\n        text-align: right;\n    }\n</style>\n<table border=\"1\" class=\"dataframe\">\n  <thead>\n    <tr style=\"text-align: right;\">\n      <th></th>\n      <th>pearson_corr</th>\n    </tr>\n  </thead>\n  <tbody>\n    <tr>\n      <th>int_rate</th>\n      <td>0.260228</td>\n    </tr>\n    <tr>\n      <th>term</th>\n      <td>0.177520</td>\n    </tr>\n    <tr>\n      <th>fico</th>\n      <td>-0.128228</td>\n    </tr>\n    <tr>\n      <th>mort_acc</th>\n      <td>-0.076709</td>\n    </tr>\n    <tr>\n      <th>tot_cur_bal</th>\n      <td>-0.071234</td>\n    </tr>\n    <tr>\n      <th>loan_amnt</th>\n      <td>0.063970</td>\n    </tr>\n    <tr>\n      <th>revol_util</th>\n      <td>0.058190</td>\n    </tr>\n    <tr>\n      <th>installment</th>\n      <td>0.050133</td>\n    </tr>\n    <tr>\n      <th>earliest_cr_line</th>\n      <td>0.043544</td>\n    </tr>\n    <tr>\n      <th>annual_inc</th>\n      <td>-0.042430</td>\n    </tr>\n    <tr>\n      <th>num_actv_bc_tl</th>\n      <td>0.040594</td>\n    </tr>\n    <tr>\n      <th>pub_rec</th>\n      <td>0.027708</td>\n    </tr>\n    <tr>\n      <th>open_acc</th>\n      <td>0.025661</td>\n    </tr>\n    <tr>\n      <th>total_acc</th>\n      <td>-0.013136</td>\n    </tr>\n  </tbody>\n</table>\n</div>"
          },
          "metadata": {}
        }
      ],
      "execution_count": 7,
      "metadata": {
        "jupyter": {
          "source_hidden": false,
          "outputs_hidden": false
        },
        "nteract": {
          "transient": {
            "deleting": false
          }
        }
      }
    },
    {
      "cell_type": "code",
      "source": [
        "num_cols = list(data.select_dtypes(exclude=['object']).columns)\n",
        "cat_cols = list(data.select_dtypes(include=['object']).columns)"
      ],
      "outputs": [
        {
          "output_type": "display_data",
          "data": {
            "application/vnd.livy.statement-meta+json": {
              "spark_pool": "Spark11",
              "session_id": 19,
              "statement_id": 8,
              "state": "finished",
              "livy_statement_state": "available",
              "queued_time": "2022-06-17T16:09:06.3449887Z",
              "session_start_time": null,
              "execution_start_time": "2022-06-17T16:12:12.7285277Z",
              "execution_finish_time": "2022-06-17T16:12:13.2405129Z"
            },
            "text/plain": "StatementMeta(Spark11, 19, 8, Finished, Available)"
          },
          "metadata": {}
        }
      ],
      "execution_count": 8,
      "metadata": {
        "jupyter": {
          "source_hidden": false,
          "outputs_hidden": false
        },
        "nteract": {
          "transient": {
            "deleting": false
          }
        }
      }
    },
    {
      "cell_type": "code",
      "source": [
        "# Get info on the missing data\n",
        "\n",
        "def list_missing_data():\n",
        "    for column in data.columns:\n",
        "        if data[column].isna().sum() != 0:\n",
        "            missing = data[column].isna().sum()\n",
        "            portion = (missing / data.shape[0]) * 100\n",
        "            print(f\"'{column}': number of missing values '{missing}' ==> '{portion:.3f}%'\")"
      ],
      "outputs": [
        {
          "output_type": "display_data",
          "data": {
            "application/vnd.livy.statement-meta+json": {
              "spark_pool": "Spark11",
              "session_id": 19,
              "statement_id": 9,
              "state": "finished",
              "livy_statement_state": "available",
              "queued_time": "2022-06-17T16:09:06.347176Z",
              "session_start_time": null,
              "execution_start_time": "2022-06-17T16:12:13.3604196Z",
              "execution_finish_time": "2022-06-17T16:12:13.5056505Z"
            },
            "text/plain": "StatementMeta(Spark11, 19, 9, Finished, Available)"
          },
          "metadata": {}
        }
      ],
      "execution_count": 9,
      "metadata": {
        "jupyter": {
          "source_hidden": false,
          "outputs_hidden": false
        },
        "nteract": {
          "transient": {
            "deleting": false
          }
        }
      }
    },
    {
      "cell_type": "code",
      "source": [
        "list_missing_data()"
      ],
      "outputs": [
        {
          "output_type": "display_data",
          "data": {
            "application/vnd.livy.statement-meta+json": {
              "spark_pool": "Spark11",
              "session_id": 19,
              "statement_id": 10,
              "state": "finished",
              "livy_statement_state": "available",
              "queued_time": "2022-06-17T16:09:06.3492528Z",
              "session_start_time": null,
              "execution_start_time": "2022-06-17T16:12:13.6978069Z",
              "execution_finish_time": "2022-06-17T16:12:14.7544061Z"
            },
            "text/plain": "StatementMeta(Spark11, 19, 10, Finished, Available)"
          },
          "metadata": {}
        },
        {
          "output_type": "stream",
          "name": "stdout",
          "text": [
            "'emp_length': number of missing values '76024' ==> '5.985%'\n'revol_util': number of missing values '776' ==> '0.061%'\n"
          ]
        }
      ],
      "execution_count": 10,
      "metadata": {
        "jupyter": {
          "source_hidden": false,
          "outputs_hidden": false
        },
        "nteract": {
          "transient": {
            "deleting": false
          }
        }
      }
    },
    {
      "cell_type": "code",
      "source": [
        "# Transforming the nominal values into the numerical, for easier comparison\n",
        "\n",
        "data['emp_length'].replace('10+ years', '10 years', inplace=True)\n",
        "data['emp_length'].replace('< 1 year', '0 years', inplace=True)\n",
        "\n",
        "data['emp_length'].value_counts(dropna=False).sort_index()"
      ],
      "outputs": [
        {
          "output_type": "display_data",
          "data": {
            "application/vnd.livy.statement-meta+json": {
              "spark_pool": "Spark11",
              "session_id": 19,
              "statement_id": 11,
              "state": "finished",
              "livy_statement_state": "available",
              "queued_time": "2022-06-17T16:09:06.3514228Z",
              "session_start_time": null,
              "execution_start_time": "2022-06-17T16:12:14.8605309Z",
              "execution_finish_time": "2022-06-17T16:12:15.3636182Z"
            },
            "text/plain": "StatementMeta(Spark11, 19, 11, Finished, Available)"
          },
          "metadata": {}
        },
        {
          "output_type": "execute_result",
          "execution_count": 25,
          "data": {
            "text/plain": "0 years     100736\n1 year       82998\n10 years    422068\n2 years     114353\n3 years     101018\n4 years      74582\n5 years      78013\n6 years      58286\n7 years      56048\n8 years      57688\n9 years      48403\nNaN          76024\nName: emp_length, dtype: int64"
          },
          "metadata": {}
        }
      ],
      "execution_count": 11,
      "metadata": {
        "jupyter": {
          "source_hidden": false,
          "outputs_hidden": false
        },
        "nteract": {
          "transient": {
            "deleting": false
          }
        }
      }
    },
    {
      "cell_type": "code",
      "source": [
        "data['emp_length'].map( lambda x: str(x).split()[0]).value_counts(dropna=True).sort_index()\n",
        "data['emp_length'] = data['emp_length'].map( lambda x: float(str(x).split()[0]))"
      ],
      "outputs": [
        {
          "output_type": "display_data",
          "data": {
            "application/vnd.livy.statement-meta+json": {
              "spark_pool": "Spark11",
              "session_id": 19,
              "statement_id": 12,
              "state": "finished",
              "livy_statement_state": "available",
              "queued_time": "2022-06-17T16:09:06.3535153Z",
              "session_start_time": null,
              "execution_start_time": "2022-06-17T16:12:15.47083Z",
              "execution_finish_time": "2022-06-17T16:12:17.270311Z"
            },
            "text/plain": "StatementMeta(Spark11, 19, 12, Finished, Available)"
          },
          "metadata": {}
        }
      ],
      "execution_count": 12,
      "metadata": {
        "jupyter": {
          "source_hidden": false,
          "outputs_hidden": false
        },
        "nteract": {
          "transient": {
            "deleting": false
          }
        }
      }
    },
    {
      "cell_type": "code",
      "source": [
        "data['emp_length'][0:5]"
      ],
      "outputs": [
        {
          "output_type": "display_data",
          "data": {
            "application/vnd.livy.statement-meta+json": {
              "spark_pool": "Spark11",
              "session_id": 19,
              "statement_id": 13,
              "state": "finished",
              "livy_statement_state": "available",
              "queued_time": "2022-06-17T16:09:06.4272502Z",
              "session_start_time": null,
              "execution_start_time": "2022-06-17T16:12:17.3609528Z",
              "execution_finish_time": "2022-06-17T16:12:17.50524Z"
            },
            "text/plain": "StatementMeta(Spark11, 19, 13, Finished, Available)"
          },
          "metadata": {}
        },
        {
          "output_type": "execute_result",
          "execution_count": 29,
          "data": {
            "text/plain": "0    10.0\n1    10.0\n2    10.0\n3     3.0\n4     4.0\nName: emp_length, dtype: float64"
          },
          "metadata": {}
        }
      ],
      "execution_count": 13,
      "metadata": {
        "jupyter": {
          "source_hidden": false,
          "outputs_hidden": false
        },
        "nteract": {
          "transient": {
            "deleting": false
          }
        }
      }
    },
    {
      "cell_type": "code",
      "source": [
        "# Filling in the missing data with the mean value, using the imputer\n",
        "\n",
        "imputer = SimpleImputer(strategy='mean', missing_values=np.nan)\n",
        "imputer = imputer.fit(data[['emp_length','revol_util']])\n",
        "data[['emp_length','revol_util']] = imputer.transform(data[['emp_length','revol_util']])\n",
        "# data"
      ],
      "outputs": [
        {
          "output_type": "display_data",
          "data": {
            "application/vnd.livy.statement-meta+json": {
              "spark_pool": "Spark11",
              "session_id": 19,
              "statement_id": 14,
              "state": "finished",
              "livy_statement_state": "available",
              "queued_time": "2022-06-17T16:09:06.4299121Z",
              "session_start_time": null,
              "execution_start_time": "2022-06-17T16:12:17.6046669Z",
              "execution_finish_time": "2022-06-17T16:12:18.6478504Z"
            },
            "text/plain": "StatementMeta(Spark11, 19, 14, Finished, Available)"
          },
          "metadata": {}
        }
      ],
      "execution_count": 14,
      "metadata": {
        "jupyter": {
          "source_hidden": false,
          "outputs_hidden": false
        },
        "nteract": {
          "transient": {
            "deleting": false
          }
        }
      }
    },
    {
      "cell_type": "code",
      "source": [
        "data.head()"
      ],
      "outputs": [
        {
          "output_type": "display_data",
          "data": {
            "application/vnd.livy.statement-meta+json": {
              "spark_pool": "Spark11",
              "session_id": 19,
              "statement_id": 15,
              "state": "finished",
              "livy_statement_state": "available",
              "queued_time": "2022-06-17T16:09:06.4321101Z",
              "session_start_time": null,
              "execution_start_time": "2022-06-17T16:12:18.759263Z",
              "execution_finish_time": "2022-06-17T16:12:18.9154914Z"
            },
            "text/plain": "StatementMeta(Spark11, 19, 15, Finished, Available)"
          },
          "metadata": {}
        },
        {
          "output_type": "execute_result",
          "execution_count": 33,
          "data": {
            "text/plain": "   installment addr_state  annual_inc  earliest_cr_line  emp_length  \\\n0       123.03         PA     55000.0              2003        10.0   \n1       820.28         SD     65000.0              1999        10.0   \n2       432.66         IL     63000.0              2000        10.0   \n3       289.91         PA    104433.0              1998         3.0   \n4       405.18         GA     34000.0              1987         4.0   \n\n  home_ownership application_type  int_rate  loan_amnt  num_actv_bc_tl  \\\n0       MORTGAGE       Individual     13.99     3600.0             2.0   \n1       MORTGAGE       Individual     11.99    24700.0             5.0   \n2       MORTGAGE        Joint App     10.78    20000.0             2.0   \n3       MORTGAGE       Individual     22.45    10400.0             4.0   \n4           RENT       Individual     13.44    11950.0             2.0   \n\n   loan_status  mort_acc  tot_cur_bal  open_acc  pub_rec             purpose  \\\n0            0       1.0     144904.0       7.0      0.0  debt_consolidation   \n1            0       4.0     204396.0      22.0      0.0      small_business   \n2            0       5.0     189699.0       6.0      0.0    home_improvement   \n3            0       6.0     331730.0      12.0      0.0      major_purchase   \n4            0       0.0      12798.0       5.0      0.0  debt_consolidation   \n\n   revol_util sub_grade  term  total_acc verification_status   fico  \n0        29.7        C4    36       13.0        Not Verified  677.0  \n1        19.2        C1    36       38.0        Not Verified  717.0  \n2        56.2        B4    60       18.0        Not Verified  697.0  \n3        64.5        F1    60       35.0     Source Verified  697.0  \n4        68.4        C3    36        6.0     Source Verified  692.0  ",
            "text/html": "<div>\n<style scoped>\n    .dataframe tbody tr th:only-of-type {\n        vertical-align: middle;\n    }\n\n    .dataframe tbody tr th {\n        vertical-align: top;\n    }\n\n    .dataframe thead th {\n        text-align: right;\n    }\n</style>\n<table border=\"1\" class=\"dataframe\">\n  <thead>\n    <tr style=\"text-align: right;\">\n      <th></th>\n      <th>installment</th>\n      <th>addr_state</th>\n      <th>annual_inc</th>\n      <th>earliest_cr_line</th>\n      <th>emp_length</th>\n      <th>home_ownership</th>\n      <th>application_type</th>\n      <th>int_rate</th>\n      <th>loan_amnt</th>\n      <th>num_actv_bc_tl</th>\n      <th>loan_status</th>\n      <th>mort_acc</th>\n      <th>tot_cur_bal</th>\n      <th>open_acc</th>\n      <th>pub_rec</th>\n      <th>purpose</th>\n      <th>revol_util</th>\n      <th>sub_grade</th>\n      <th>term</th>\n      <th>total_acc</th>\n      <th>verification_status</th>\n      <th>fico</th>\n    </tr>\n  </thead>\n  <tbody>\n    <tr>\n      <th>0</th>\n      <td>123.03</td>\n      <td>PA</td>\n      <td>55000.0</td>\n      <td>2003</td>\n      <td>10.0</td>\n      <td>MORTGAGE</td>\n      <td>Individual</td>\n      <td>13.99</td>\n      <td>3600.0</td>\n      <td>2.0</td>\n      <td>0</td>\n      <td>1.0</td>\n      <td>144904.0</td>\n      <td>7.0</td>\n      <td>0.0</td>\n      <td>debt_consolidation</td>\n      <td>29.7</td>\n      <td>C4</td>\n      <td>36</td>\n      <td>13.0</td>\n      <td>Not Verified</td>\n      <td>677.0</td>\n    </tr>\n    <tr>\n      <th>1</th>\n      <td>820.28</td>\n      <td>SD</td>\n      <td>65000.0</td>\n      <td>1999</td>\n      <td>10.0</td>\n      <td>MORTGAGE</td>\n      <td>Individual</td>\n      <td>11.99</td>\n      <td>24700.0</td>\n      <td>5.0</td>\n      <td>0</td>\n      <td>4.0</td>\n      <td>204396.0</td>\n      <td>22.0</td>\n      <td>0.0</td>\n      <td>small_business</td>\n      <td>19.2</td>\n      <td>C1</td>\n      <td>36</td>\n      <td>38.0</td>\n      <td>Not Verified</td>\n      <td>717.0</td>\n    </tr>\n    <tr>\n      <th>2</th>\n      <td>432.66</td>\n      <td>IL</td>\n      <td>63000.0</td>\n      <td>2000</td>\n      <td>10.0</td>\n      <td>MORTGAGE</td>\n      <td>Joint App</td>\n      <td>10.78</td>\n      <td>20000.0</td>\n      <td>2.0</td>\n      <td>0</td>\n      <td>5.0</td>\n      <td>189699.0</td>\n      <td>6.0</td>\n      <td>0.0</td>\n      <td>home_improvement</td>\n      <td>56.2</td>\n      <td>B4</td>\n      <td>60</td>\n      <td>18.0</td>\n      <td>Not Verified</td>\n      <td>697.0</td>\n    </tr>\n    <tr>\n      <th>3</th>\n      <td>289.91</td>\n      <td>PA</td>\n      <td>104433.0</td>\n      <td>1998</td>\n      <td>3.0</td>\n      <td>MORTGAGE</td>\n      <td>Individual</td>\n      <td>22.45</td>\n      <td>10400.0</td>\n      <td>4.0</td>\n      <td>0</td>\n      <td>6.0</td>\n      <td>331730.0</td>\n      <td>12.0</td>\n      <td>0.0</td>\n      <td>major_purchase</td>\n      <td>64.5</td>\n      <td>F1</td>\n      <td>60</td>\n      <td>35.0</td>\n      <td>Source Verified</td>\n      <td>697.0</td>\n    </tr>\n    <tr>\n      <th>4</th>\n      <td>405.18</td>\n      <td>GA</td>\n      <td>34000.0</td>\n      <td>1987</td>\n      <td>4.0</td>\n      <td>RENT</td>\n      <td>Individual</td>\n      <td>13.44</td>\n      <td>11950.0</td>\n      <td>2.0</td>\n      <td>0</td>\n      <td>0.0</td>\n      <td>12798.0</td>\n      <td>5.0</td>\n      <td>0.0</td>\n      <td>debt_consolidation</td>\n      <td>68.4</td>\n      <td>C3</td>\n      <td>36</td>\n      <td>6.0</td>\n      <td>Source Verified</td>\n      <td>692.0</td>\n    </tr>\n  </tbody>\n</table>\n</div>"
          },
          "metadata": {}
        }
      ],
      "execution_count": 15,
      "metadata": {
        "jupyter": {
          "source_hidden": false,
          "outputs_hidden": false
        },
        "nteract": {
          "transient": {
            "deleting": false
          }
        }
      }
    },
    {
      "cell_type": "code",
      "source": [
        "# Defining the encoder function, which will transorm nominal values into numerical\n",
        "# 'to make it easier for the classifier'\n",
        "\n",
        "def encode_cat(data):\n",
        "    d2 = pd.get_dummies(data, columns=cat_cols)\n",
        "    return d2"
      ],
      "outputs": [
        {
          "output_type": "display_data",
          "data": {
            "application/vnd.livy.statement-meta+json": {
              "spark_pool": "Spark11",
              "session_id": 19,
              "statement_id": 16,
              "state": "finished",
              "livy_statement_state": "available",
              "queued_time": "2022-06-17T16:09:06.4337928Z",
              "session_start_time": null,
              "execution_start_time": "2022-06-17T16:12:19.0467767Z",
              "execution_finish_time": "2022-06-17T16:12:19.1891394Z"
            },
            "text/plain": "StatementMeta(Spark11, 19, 16, Finished, Available)"
          },
          "metadata": {}
        }
      ],
      "execution_count": 16,
      "metadata": {
        "jupyter": {
          "source_hidden": false,
          "outputs_hidden": false
        },
        "nteract": {
          "transient": {
            "deleting": false
          }
        }
      }
    },
    {
      "cell_type": "code",
      "source": [
        "data_encoded = encode_cat(data)"
      ],
      "outputs": [
        {
          "output_type": "display_data",
          "data": {
            "application/vnd.livy.statement-meta+json": {
              "spark_pool": "Spark11",
              "session_id": 19,
              "statement_id": 17,
              "state": "finished",
              "livy_statement_state": "available",
              "queued_time": "2022-06-17T16:09:06.4355751Z",
              "session_start_time": null,
              "execution_start_time": "2022-06-17T16:12:19.3165913Z",
              "execution_finish_time": "2022-06-17T16:12:21.0993216Z"
            },
            "text/plain": "StatementMeta(Spark11, 19, 17, Finished, Available)"
          },
          "metadata": {}
        }
      ],
      "execution_count": 17,
      "metadata": {
        "jupyter": {
          "source_hidden": false,
          "outputs_hidden": false
        },
        "nteract": {
          "transient": {
            "deleting": false
          }
        }
      }
    },
    {
      "cell_type": "code",
      "source": [
        "data_encoded.head()"
      ],
      "outputs": [
        {
          "output_type": "display_data",
          "data": {
            "application/vnd.livy.statement-meta+json": {
              "spark_pool": "Spark11",
              "session_id": 19,
              "statement_id": 18,
              "state": "finished",
              "livy_statement_state": "available",
              "queued_time": "2022-06-17T16:09:06.4376176Z",
              "session_start_time": null,
              "execution_start_time": "2022-06-17T16:12:21.2177754Z",
              "execution_finish_time": "2022-06-17T16:12:21.388302Z"
            },
            "text/plain": "StatementMeta(Spark11, 19, 18, Finished, Available)"
          },
          "metadata": {}
        },
        {
          "output_type": "execute_result",
          "execution_count": 39,
          "data": {
            "text/plain": "   installment  annual_inc  earliest_cr_line  int_rate  loan_amnt  \\\n0       123.03     55000.0              2003     13.99     3600.0   \n1       820.28     65000.0              1999     11.99    24700.0   \n2       432.66     63000.0              2000     10.78    20000.0   \n3       289.91    104433.0              1998     22.45    10400.0   \n4       405.18     34000.0              1987     13.44    11950.0   \n\n   num_actv_bc_tl  loan_status  mort_acc  tot_cur_bal  open_acc  pub_rec  \\\n0             2.0            0       1.0     144904.0       7.0      0.0   \n1             5.0            0       4.0     204396.0      22.0      0.0   \n2             2.0            0       5.0     189699.0       6.0      0.0   \n3             4.0            0       6.0     331730.0      12.0      0.0   \n4             2.0            0       0.0      12798.0       5.0      0.0   \n\n   revol_util  term  total_acc   fico  addr_state_AK  addr_state_AL  \\\n0        29.7    36       13.0  677.0              0              0   \n1        19.2    36       38.0  717.0              0              0   \n2        56.2    60       18.0  697.0              0              0   \n3        64.5    60       35.0  697.0              0              0   \n4        68.4    36        6.0  692.0              0              0   \n\n   addr_state_AR  addr_state_AZ  addr_state_CA  addr_state_CO  addr_state_CT  \\\n0              0              0              0              0              0   \n1              0              0              0              0              0   \n2              0              0              0              0              0   \n3              0              0              0              0              0   \n4              0              0              0              0              0   \n\n   addr_state_DC  addr_state_DE  addr_state_FL  addr_state_GA  addr_state_HI  \\\n0              0              0              0              0              0   \n1              0              0              0              0              0   \n2              0              0              0              0              0   \n3              0              0              0              0              0   \n4              0              0              0              1              0   \n\n   addr_state_IA  addr_state_ID  addr_state_IL  addr_state_IN  addr_state_KS  \\\n0              0              0              0              0              0   \n1              0              0              0              0              0   \n2              0              0              1              0              0   \n3              0              0              0              0              0   \n4              0              0              0              0              0   \n\n   addr_state_KY  addr_state_LA  addr_state_MA  addr_state_MD  addr_state_ME  \\\n0              0              0              0              0              0   \n1              0              0              0              0              0   \n2              0              0              0              0              0   \n3              0              0              0              0              0   \n4              0              0              0              0              0   \n\n   addr_state_MI  addr_state_MN  addr_state_MO  addr_state_MS  addr_state_MT  \\\n0              0              0              0              0              0   \n1              0              0              0              0              0   \n2              0              0              0              0              0   \n3              0              0              0              0              0   \n4              0              0              0              0              0   \n\n   addr_state_NC  addr_state_ND  addr_state_NE  addr_state_NH  addr_state_NJ  \\\n0              0              0              0              0              0   \n1              0              0              0              0              0   \n2              0              0              0              0              0   \n3              0              0              0              0              0   \n4              0              0              0              0              0   \n\n   addr_state_NM  addr_state_NV  addr_state_NY  addr_state_OH  addr_state_OK  \\\n0              0              0              0              0              0   \n1              0              0              0              0              0   \n2              0              0              0              0              0   \n3              0              0              0              0              0   \n4              0              0              0              0              0   \n\n   addr_state_OR  addr_state_PA  addr_state_RI  addr_state_SC  addr_state_SD  \\\n0              0              1              0              0              0   \n1              0              0              0              0              1   \n2              0              0              0              0              0   \n3              0              1              0              0              0   \n4              0              0              0              0              0   \n\n   addr_state_TN  addr_state_TX  addr_state_UT  addr_state_VA  addr_state_VT  \\\n0              0              0              0              0              0   \n1              0              0              0              0              0   \n2              0              0              0              0              0   \n3              0              0              0              0              0   \n4              0              0              0              0              0   \n\n   addr_state_WA  addr_state_WI  addr_state_WV  addr_state_WY  emp_length_0.0  \\\n0              0              0              0              0               0   \n1              0              0              0              0               0   \n2              0              0              0              0               0   \n3              0              0              0              0               0   \n4              0              0              0              0               0   \n\n   emp_length_1.0  emp_length_2.0  emp_length_3.0  emp_length_4.0  \\\n0               0               0               0               0   \n1               0               0               0               0   \n2               0               0               0               0   \n3               0               0               1               0   \n4               0               0               0               1   \n\n   emp_length_5.0  emp_length_5.998204645312776  emp_length_6.0  \\\n0               0                             0               0   \n1               0                             0               0   \n2               0                             0               0   \n3               0                             0               0   \n4               0                             0               0   \n\n   emp_length_7.0  emp_length_8.0  emp_length_9.0  emp_length_10.0  \\\n0               0               0               0                1   \n1               0               0               0                1   \n2               0               0               0                1   \n3               0               0               0                0   \n4               0               0               0                0   \n\n   home_ownership_MORTGAGE  home_ownership_OTHER  home_ownership_OWN  \\\n0                        1                     0                   0   \n1                        1                     0                   0   \n2                        1                     0                   0   \n3                        1                     0                   0   \n4                        0                     0                   0   \n\n   home_ownership_RENT  application_type_Individual  \\\n0                    0                            1   \n1                    0                            1   \n2                    0                            0   \n3                    0                            1   \n4                    1                            1   \n\n   application_type_Joint App  purpose_car  purpose_credit_card  \\\n0                           0            0                    0   \n1                           0            0                    0   \n2                           1            0                    0   \n3                           0            0                    0   \n4                           0            0                    0   \n\n   purpose_debt_consolidation  purpose_educational  purpose_home_improvement  \\\n0                           1                    0                         0   \n1                           0                    0                         0   \n2                           0                    0                         1   \n3                           0                    0                         0   \n4                           1                    0                         0   \n\n   purpose_house  purpose_major_purchase  purpose_medical  purpose_moving  \\\n0              0                       0                0               0   \n1              0                       0                0               0   \n2              0                       0                0               0   \n3              0                       1                0               0   \n4              0                       0                0               0   \n\n   purpose_other  purpose_renewable_energy  purpose_small_business  \\\n0              0                         0                       0   \n1              0                         0                       1   \n2              0                         0                       0   \n3              0                         0                       0   \n4              0                         0                       0   \n\n   purpose_vacation  purpose_wedding  sub_grade_A1  sub_grade_A2  \\\n0                 0                0             0             0   \n1                 0                0             0             0   \n2                 0                0             0             0   \n3                 0                0             0             0   \n4                 0                0             0             0   \n\n   sub_grade_A3  sub_grade_A4  sub_grade_A5  sub_grade_B1  sub_grade_B2  \\\n0             0             0             0             0             0   \n1             0             0             0             0             0   \n2             0             0             0             0             0   \n3             0             0             0             0             0   \n4             0             0             0             0             0   \n\n   sub_grade_B3  sub_grade_B4  sub_grade_B5  sub_grade_C1  sub_grade_C2  \\\n0             0             0             0             0             0   \n1             0             0             0             1             0   \n2             0             1             0             0             0   \n3             0             0             0             0             0   \n4             0             0             0             0             0   \n\n   sub_grade_C3  sub_grade_C4  sub_grade_C5  sub_grade_D1  sub_grade_D2  \\\n0             0             1             0             0             0   \n1             0             0             0             0             0   \n2             0             0             0             0             0   \n3             0             0             0             0             0   \n4             1             0             0             0             0   \n\n   sub_grade_D3  sub_grade_D4  sub_grade_D5  sub_grade_E1  sub_grade_E2  \\\n0             0             0             0             0             0   \n1             0             0             0             0             0   \n2             0             0             0             0             0   \n3             0             0             0             0             0   \n4             0             0             0             0             0   \n\n   sub_grade_E3  sub_grade_E4  sub_grade_E5  sub_grade_F1  sub_grade_F2  \\\n0             0             0             0             0             0   \n1             0             0             0             0             0   \n2             0             0             0             0             0   \n3             0             0             0             1             0   \n4             0             0             0             0             0   \n\n   sub_grade_F3  sub_grade_F4  sub_grade_F5  sub_grade_G1  sub_grade_G2  \\\n0             0             0             0             0             0   \n1             0             0             0             0             0   \n2             0             0             0             0             0   \n3             0             0             0             0             0   \n4             0             0             0             0             0   \n\n   sub_grade_G3  sub_grade_G4  sub_grade_G5  verification_status_Not Verified  \\\n0             0             0             0                                 1   \n1             0             0             0                                 1   \n2             0             0             0                                 1   \n3             0             0             0                                 0   \n4             0             0             0                                 0   \n\n   verification_status_Source Verified  verification_status_Verified  \n0                                    0                             0  \n1                                    0                             0  \n2                                    0                             0  \n3                                    1                             0  \n4                                    1                             0  ",
            "text/html": "<div>\n<style scoped>\n    .dataframe tbody tr th:only-of-type {\n        vertical-align: middle;\n    }\n\n    .dataframe tbody tr th {\n        vertical-align: top;\n    }\n\n    .dataframe thead th {\n        text-align: right;\n    }\n</style>\n<table border=\"1\" class=\"dataframe\">\n  <thead>\n    <tr style=\"text-align: right;\">\n      <th></th>\n      <th>installment</th>\n      <th>annual_inc</th>\n      <th>earliest_cr_line</th>\n      <th>int_rate</th>\n      <th>loan_amnt</th>\n      <th>num_actv_bc_tl</th>\n      <th>loan_status</th>\n      <th>mort_acc</th>\n      <th>tot_cur_bal</th>\n      <th>open_acc</th>\n      <th>pub_rec</th>\n      <th>revol_util</th>\n      <th>term</th>\n      <th>total_acc</th>\n      <th>fico</th>\n      <th>addr_state_AK</th>\n      <th>addr_state_AL</th>\n      <th>addr_state_AR</th>\n      <th>addr_state_AZ</th>\n      <th>addr_state_CA</th>\n      <th>addr_state_CO</th>\n      <th>addr_state_CT</th>\n      <th>addr_state_DC</th>\n      <th>addr_state_DE</th>\n      <th>addr_state_FL</th>\n      <th>addr_state_GA</th>\n      <th>addr_state_HI</th>\n      <th>addr_state_IA</th>\n      <th>addr_state_ID</th>\n      <th>addr_state_IL</th>\n      <th>addr_state_IN</th>\n      <th>addr_state_KS</th>\n      <th>addr_state_KY</th>\n      <th>addr_state_LA</th>\n      <th>addr_state_MA</th>\n      <th>addr_state_MD</th>\n      <th>addr_state_ME</th>\n      <th>addr_state_MI</th>\n      <th>addr_state_MN</th>\n      <th>addr_state_MO</th>\n      <th>addr_state_MS</th>\n      <th>addr_state_MT</th>\n      <th>addr_state_NC</th>\n      <th>addr_state_ND</th>\n      <th>addr_state_NE</th>\n      <th>addr_state_NH</th>\n      <th>addr_state_NJ</th>\n      <th>addr_state_NM</th>\n      <th>addr_state_NV</th>\n      <th>addr_state_NY</th>\n      <th>addr_state_OH</th>\n      <th>addr_state_OK</th>\n      <th>addr_state_OR</th>\n      <th>addr_state_PA</th>\n      <th>addr_state_RI</th>\n      <th>addr_state_SC</th>\n      <th>addr_state_SD</th>\n      <th>addr_state_TN</th>\n      <th>addr_state_TX</th>\n      <th>addr_state_UT</th>\n      <th>addr_state_VA</th>\n      <th>addr_state_VT</th>\n      <th>addr_state_WA</th>\n      <th>addr_state_WI</th>\n      <th>addr_state_WV</th>\n      <th>addr_state_WY</th>\n      <th>emp_length_0.0</th>\n      <th>emp_length_1.0</th>\n      <th>emp_length_2.0</th>\n      <th>emp_length_3.0</th>\n      <th>emp_length_4.0</th>\n      <th>emp_length_5.0</th>\n      <th>emp_length_5.998204645312776</th>\n      <th>emp_length_6.0</th>\n      <th>emp_length_7.0</th>\n      <th>emp_length_8.0</th>\n      <th>emp_length_9.0</th>\n      <th>emp_length_10.0</th>\n      <th>home_ownership_MORTGAGE</th>\n      <th>home_ownership_OTHER</th>\n      <th>home_ownership_OWN</th>\n      <th>home_ownership_RENT</th>\n      <th>application_type_Individual</th>\n      <th>application_type_Joint App</th>\n      <th>purpose_car</th>\n      <th>purpose_credit_card</th>\n      <th>purpose_debt_consolidation</th>\n      <th>purpose_educational</th>\n      <th>purpose_home_improvement</th>\n      <th>purpose_house</th>\n      <th>purpose_major_purchase</th>\n      <th>purpose_medical</th>\n      <th>purpose_moving</th>\n      <th>purpose_other</th>\n      <th>purpose_renewable_energy</th>\n      <th>purpose_small_business</th>\n      <th>purpose_vacation</th>\n      <th>purpose_wedding</th>\n      <th>sub_grade_A1</th>\n      <th>sub_grade_A2</th>\n      <th>sub_grade_A3</th>\n      <th>sub_grade_A4</th>\n      <th>sub_grade_A5</th>\n      <th>sub_grade_B1</th>\n      <th>sub_grade_B2</th>\n      <th>sub_grade_B3</th>\n      <th>sub_grade_B4</th>\n      <th>sub_grade_B5</th>\n      <th>sub_grade_C1</th>\n      <th>sub_grade_C2</th>\n      <th>sub_grade_C3</th>\n      <th>sub_grade_C4</th>\n      <th>sub_grade_C5</th>\n      <th>sub_grade_D1</th>\n      <th>sub_grade_D2</th>\n      <th>sub_grade_D3</th>\n      <th>sub_grade_D4</th>\n      <th>sub_grade_D5</th>\n      <th>sub_grade_E1</th>\n      <th>sub_grade_E2</th>\n      <th>sub_grade_E3</th>\n      <th>sub_grade_E4</th>\n      <th>sub_grade_E5</th>\n      <th>sub_grade_F1</th>\n      <th>sub_grade_F2</th>\n      <th>sub_grade_F3</th>\n      <th>sub_grade_F4</th>\n      <th>sub_grade_F5</th>\n      <th>sub_grade_G1</th>\n      <th>sub_grade_G2</th>\n      <th>sub_grade_G3</th>\n      <th>sub_grade_G4</th>\n      <th>sub_grade_G5</th>\n      <th>verification_status_Not Verified</th>\n      <th>verification_status_Source Verified</th>\n      <th>verification_status_Verified</th>\n    </tr>\n  </thead>\n  <tbody>\n    <tr>\n      <th>0</th>\n      <td>123.03</td>\n      <td>55000.0</td>\n      <td>2003</td>\n      <td>13.99</td>\n      <td>3600.0</td>\n      <td>2.0</td>\n      <td>0</td>\n      <td>1.0</td>\n      <td>144904.0</td>\n      <td>7.0</td>\n      <td>0.0</td>\n      <td>29.7</td>\n      <td>36</td>\n      <td>13.0</td>\n      <td>677.0</td>\n      <td>0</td>\n      <td>0</td>\n      <td>0</td>\n      <td>0</td>\n      <td>0</td>\n      <td>0</td>\n      <td>0</td>\n      <td>0</td>\n      <td>0</td>\n      <td>0</td>\n      <td>0</td>\n      <td>0</td>\n      <td>0</td>\n      <td>0</td>\n      <td>0</td>\n      <td>0</td>\n      <td>0</td>\n      <td>0</td>\n      <td>0</td>\n      <td>0</td>\n      <td>0</td>\n      <td>0</td>\n      <td>0</td>\n      <td>0</td>\n      <td>0</td>\n      <td>0</td>\n      <td>0</td>\n      <td>0</td>\n      <td>0</td>\n      <td>0</td>\n      <td>0</td>\n      <td>0</td>\n      <td>0</td>\n      <td>0</td>\n      <td>0</td>\n      <td>0</td>\n      <td>0</td>\n      <td>0</td>\n      <td>1</td>\n      <td>0</td>\n      <td>0</td>\n      <td>0</td>\n      <td>0</td>\n      <td>0</td>\n      <td>0</td>\n      <td>0</td>\n      <td>0</td>\n      <td>0</td>\n      <td>0</td>\n      <td>0</td>\n      <td>0</td>\n      <td>0</td>\n      <td>0</td>\n      <td>0</td>\n      <td>0</td>\n      <td>0</td>\n      <td>0</td>\n      <td>0</td>\n      <td>0</td>\n      <td>0</td>\n      <td>0</td>\n      <td>0</td>\n      <td>1</td>\n      <td>1</td>\n      <td>0</td>\n      <td>0</td>\n      <td>0</td>\n      <td>1</td>\n      <td>0</td>\n      <td>0</td>\n      <td>0</td>\n      <td>1</td>\n      <td>0</td>\n      <td>0</td>\n      <td>0</td>\n      <td>0</td>\n      <td>0</td>\n      <td>0</td>\n      <td>0</td>\n      <td>0</td>\n      <td>0</td>\n      <td>0</td>\n      <td>0</td>\n      <td>0</td>\n      <td>0</td>\n      <td>0</td>\n      <td>0</td>\n      <td>0</td>\n      <td>0</td>\n      <td>0</td>\n      <td>0</td>\n      <td>0</td>\n      <td>0</td>\n      <td>0</td>\n      <td>0</td>\n      <td>0</td>\n      <td>1</td>\n      <td>0</td>\n      <td>0</td>\n      <td>0</td>\n      <td>0</td>\n      <td>0</td>\n      <td>0</td>\n      <td>0</td>\n      <td>0</td>\n      <td>0</td>\n      <td>0</td>\n      <td>0</td>\n      <td>0</td>\n      <td>0</td>\n      <td>0</td>\n      <td>0</td>\n      <td>0</td>\n      <td>0</td>\n      <td>0</td>\n      <td>0</td>\n      <td>0</td>\n      <td>0</td>\n      <td>1</td>\n      <td>0</td>\n      <td>0</td>\n    </tr>\n    <tr>\n      <th>1</th>\n      <td>820.28</td>\n      <td>65000.0</td>\n      <td>1999</td>\n      <td>11.99</td>\n      <td>24700.0</td>\n      <td>5.0</td>\n      <td>0</td>\n      <td>4.0</td>\n      <td>204396.0</td>\n      <td>22.0</td>\n      <td>0.0</td>\n      <td>19.2</td>\n      <td>36</td>\n      <td>38.0</td>\n      <td>717.0</td>\n      <td>0</td>\n      <td>0</td>\n      <td>0</td>\n      <td>0</td>\n      <td>0</td>\n      <td>0</td>\n      <td>0</td>\n      <td>0</td>\n      <td>0</td>\n      <td>0</td>\n      <td>0</td>\n      <td>0</td>\n      <td>0</td>\n      <td>0</td>\n      <td>0</td>\n      <td>0</td>\n      <td>0</td>\n      <td>0</td>\n      <td>0</td>\n      <td>0</td>\n      <td>0</td>\n      <td>0</td>\n      <td>0</td>\n      <td>0</td>\n      <td>0</td>\n      <td>0</td>\n      <td>0</td>\n      <td>0</td>\n      <td>0</td>\n      <td>0</td>\n      <td>0</td>\n      <td>0</td>\n      <td>0</td>\n      <td>0</td>\n      <td>0</td>\n      <td>0</td>\n      <td>0</td>\n      <td>0</td>\n      <td>0</td>\n      <td>0</td>\n      <td>0</td>\n      <td>1</td>\n      <td>0</td>\n      <td>0</td>\n      <td>0</td>\n      <td>0</td>\n      <td>0</td>\n      <td>0</td>\n      <td>0</td>\n      <td>0</td>\n      <td>0</td>\n      <td>0</td>\n      <td>0</td>\n      <td>0</td>\n      <td>0</td>\n      <td>0</td>\n      <td>0</td>\n      <td>0</td>\n      <td>0</td>\n      <td>0</td>\n      <td>0</td>\n      <td>0</td>\n      <td>1</td>\n      <td>1</td>\n      <td>0</td>\n      <td>0</td>\n      <td>0</td>\n      <td>1</td>\n      <td>0</td>\n      <td>0</td>\n      <td>0</td>\n      <td>0</td>\n      <td>0</td>\n      <td>0</td>\n      <td>0</td>\n      <td>0</td>\n      <td>0</td>\n      <td>0</td>\n      <td>0</td>\n      <td>0</td>\n      <td>1</td>\n      <td>0</td>\n      <td>0</td>\n      <td>0</td>\n      <td>0</td>\n      <td>0</td>\n      <td>0</td>\n      <td>0</td>\n      <td>0</td>\n      <td>0</td>\n      <td>0</td>\n      <td>0</td>\n      <td>0</td>\n      <td>1</td>\n      <td>0</td>\n      <td>0</td>\n      <td>0</td>\n      <td>0</td>\n      <td>0</td>\n      <td>0</td>\n      <td>0</td>\n      <td>0</td>\n      <td>0</td>\n      <td>0</td>\n      <td>0</td>\n      <td>0</td>\n      <td>0</td>\n      <td>0</td>\n      <td>0</td>\n      <td>0</td>\n      <td>0</td>\n      <td>0</td>\n      <td>0</td>\n      <td>0</td>\n      <td>0</td>\n      <td>0</td>\n      <td>0</td>\n      <td>0</td>\n      <td>1</td>\n      <td>0</td>\n      <td>0</td>\n    </tr>\n    <tr>\n      <th>2</th>\n      <td>432.66</td>\n      <td>63000.0</td>\n      <td>2000</td>\n      <td>10.78</td>\n      <td>20000.0</td>\n      <td>2.0</td>\n      <td>0</td>\n      <td>5.0</td>\n      <td>189699.0</td>\n      <td>6.0</td>\n      <td>0.0</td>\n      <td>56.2</td>\n      <td>60</td>\n      <td>18.0</td>\n      <td>697.0</td>\n      <td>0</td>\n      <td>0</td>\n      <td>0</td>\n      <td>0</td>\n      <td>0</td>\n      <td>0</td>\n      <td>0</td>\n      <td>0</td>\n      <td>0</td>\n      <td>0</td>\n      <td>0</td>\n      <td>0</td>\n      <td>0</td>\n      <td>0</td>\n      <td>1</td>\n      <td>0</td>\n      <td>0</td>\n      <td>0</td>\n      <td>0</td>\n      <td>0</td>\n      <td>0</td>\n      <td>0</td>\n      <td>0</td>\n      <td>0</td>\n      <td>0</td>\n      <td>0</td>\n      <td>0</td>\n      <td>0</td>\n      <td>0</td>\n      <td>0</td>\n      <td>0</td>\n      <td>0</td>\n      <td>0</td>\n      <td>0</td>\n      <td>0</td>\n      <td>0</td>\n      <td>0</td>\n      <td>0</td>\n      <td>0</td>\n      <td>0</td>\n      <td>0</td>\n      <td>0</td>\n      <td>0</td>\n      <td>0</td>\n      <td>0</td>\n      <td>0</td>\n      <td>0</td>\n      <td>0</td>\n      <td>0</td>\n      <td>0</td>\n      <td>0</td>\n      <td>0</td>\n      <td>0</td>\n      <td>0</td>\n      <td>0</td>\n      <td>0</td>\n      <td>0</td>\n      <td>0</td>\n      <td>0</td>\n      <td>0</td>\n      <td>0</td>\n      <td>0</td>\n      <td>1</td>\n      <td>1</td>\n      <td>0</td>\n      <td>0</td>\n      <td>0</td>\n      <td>0</td>\n      <td>1</td>\n      <td>0</td>\n      <td>0</td>\n      <td>0</td>\n      <td>0</td>\n      <td>1</td>\n      <td>0</td>\n      <td>0</td>\n      <td>0</td>\n      <td>0</td>\n      <td>0</td>\n      <td>0</td>\n      <td>0</td>\n      <td>0</td>\n      <td>0</td>\n      <td>0</td>\n      <td>0</td>\n      <td>0</td>\n      <td>0</td>\n      <td>0</td>\n      <td>0</td>\n      <td>0</td>\n      <td>0</td>\n      <td>1</td>\n      <td>0</td>\n      <td>0</td>\n      <td>0</td>\n      <td>0</td>\n      <td>0</td>\n      <td>0</td>\n      <td>0</td>\n      <td>0</td>\n      <td>0</td>\n      <td>0</td>\n      <td>0</td>\n      <td>0</td>\n      <td>0</td>\n      <td>0</td>\n      <td>0</td>\n      <td>0</td>\n      <td>0</td>\n      <td>0</td>\n      <td>0</td>\n      <td>0</td>\n      <td>0</td>\n      <td>0</td>\n      <td>0</td>\n      <td>0</td>\n      <td>0</td>\n      <td>0</td>\n      <td>1</td>\n      <td>0</td>\n      <td>0</td>\n    </tr>\n    <tr>\n      <th>3</th>\n      <td>289.91</td>\n      <td>104433.0</td>\n      <td>1998</td>\n      <td>22.45</td>\n      <td>10400.0</td>\n      <td>4.0</td>\n      <td>0</td>\n      <td>6.0</td>\n      <td>331730.0</td>\n      <td>12.0</td>\n      <td>0.0</td>\n      <td>64.5</td>\n      <td>60</td>\n      <td>35.0</td>\n      <td>697.0</td>\n      <td>0</td>\n      <td>0</td>\n      <td>0</td>\n      <td>0</td>\n      <td>0</td>\n      <td>0</td>\n      <td>0</td>\n      <td>0</td>\n      <td>0</td>\n      <td>0</td>\n      <td>0</td>\n      <td>0</td>\n      <td>0</td>\n      <td>0</td>\n      <td>0</td>\n      <td>0</td>\n      <td>0</td>\n      <td>0</td>\n      <td>0</td>\n      <td>0</td>\n      <td>0</td>\n      <td>0</td>\n      <td>0</td>\n      <td>0</td>\n      <td>0</td>\n      <td>0</td>\n      <td>0</td>\n      <td>0</td>\n      <td>0</td>\n      <td>0</td>\n      <td>0</td>\n      <td>0</td>\n      <td>0</td>\n      <td>0</td>\n      <td>0</td>\n      <td>0</td>\n      <td>0</td>\n      <td>0</td>\n      <td>1</td>\n      <td>0</td>\n      <td>0</td>\n      <td>0</td>\n      <td>0</td>\n      <td>0</td>\n      <td>0</td>\n      <td>0</td>\n      <td>0</td>\n      <td>0</td>\n      <td>0</td>\n      <td>0</td>\n      <td>0</td>\n      <td>0</td>\n      <td>0</td>\n      <td>0</td>\n      <td>1</td>\n      <td>0</td>\n      <td>0</td>\n      <td>0</td>\n      <td>0</td>\n      <td>0</td>\n      <td>0</td>\n      <td>0</td>\n      <td>0</td>\n      <td>1</td>\n      <td>0</td>\n      <td>0</td>\n      <td>0</td>\n      <td>1</td>\n      <td>0</td>\n      <td>0</td>\n      <td>0</td>\n      <td>0</td>\n      <td>0</td>\n      <td>0</td>\n      <td>0</td>\n      <td>1</td>\n      <td>0</td>\n      <td>0</td>\n      <td>0</td>\n      <td>0</td>\n      <td>0</td>\n      <td>0</td>\n      <td>0</td>\n      <td>0</td>\n      <td>0</td>\n      <td>0</td>\n      <td>0</td>\n      <td>0</td>\n      <td>0</td>\n      <td>0</td>\n      <td>0</td>\n      <td>0</td>\n      <td>0</td>\n      <td>0</td>\n      <td>0</td>\n      <td>0</td>\n      <td>0</td>\n      <td>0</td>\n      <td>0</td>\n      <td>0</td>\n      <td>0</td>\n      <td>0</td>\n      <td>0</td>\n      <td>0</td>\n      <td>0</td>\n      <td>0</td>\n      <td>0</td>\n      <td>0</td>\n      <td>1</td>\n      <td>0</td>\n      <td>0</td>\n      <td>0</td>\n      <td>0</td>\n      <td>0</td>\n      <td>0</td>\n      <td>0</td>\n      <td>0</td>\n      <td>0</td>\n      <td>0</td>\n      <td>1</td>\n      <td>0</td>\n    </tr>\n    <tr>\n      <th>4</th>\n      <td>405.18</td>\n      <td>34000.0</td>\n      <td>1987</td>\n      <td>13.44</td>\n      <td>11950.0</td>\n      <td>2.0</td>\n      <td>0</td>\n      <td>0.0</td>\n      <td>12798.0</td>\n      <td>5.0</td>\n      <td>0.0</td>\n      <td>68.4</td>\n      <td>36</td>\n      <td>6.0</td>\n      <td>692.0</td>\n      <td>0</td>\n      <td>0</td>\n      <td>0</td>\n      <td>0</td>\n      <td>0</td>\n      <td>0</td>\n      <td>0</td>\n      <td>0</td>\n      <td>0</td>\n      <td>0</td>\n      <td>1</td>\n      <td>0</td>\n      <td>0</td>\n      <td>0</td>\n      <td>0</td>\n      <td>0</td>\n      <td>0</td>\n      <td>0</td>\n      <td>0</td>\n      <td>0</td>\n      <td>0</td>\n      <td>0</td>\n      <td>0</td>\n      <td>0</td>\n      <td>0</td>\n      <td>0</td>\n      <td>0</td>\n      <td>0</td>\n      <td>0</td>\n      <td>0</td>\n      <td>0</td>\n      <td>0</td>\n      <td>0</td>\n      <td>0</td>\n      <td>0</td>\n      <td>0</td>\n      <td>0</td>\n      <td>0</td>\n      <td>0</td>\n      <td>0</td>\n      <td>0</td>\n      <td>0</td>\n      <td>0</td>\n      <td>0</td>\n      <td>0</td>\n      <td>0</td>\n      <td>0</td>\n      <td>0</td>\n      <td>0</td>\n      <td>0</td>\n      <td>0</td>\n      <td>0</td>\n      <td>0</td>\n      <td>0</td>\n      <td>0</td>\n      <td>1</td>\n      <td>0</td>\n      <td>0</td>\n      <td>0</td>\n      <td>0</td>\n      <td>0</td>\n      <td>0</td>\n      <td>0</td>\n      <td>0</td>\n      <td>0</td>\n      <td>0</td>\n      <td>1</td>\n      <td>1</td>\n      <td>0</td>\n      <td>0</td>\n      <td>0</td>\n      <td>1</td>\n      <td>0</td>\n      <td>0</td>\n      <td>0</td>\n      <td>0</td>\n      <td>0</td>\n      <td>0</td>\n      <td>0</td>\n      <td>0</td>\n      <td>0</td>\n      <td>0</td>\n      <td>0</td>\n      <td>0</td>\n      <td>0</td>\n      <td>0</td>\n      <td>0</td>\n      <td>0</td>\n      <td>0</td>\n      <td>0</td>\n      <td>0</td>\n      <td>0</td>\n      <td>0</td>\n      <td>0</td>\n      <td>0</td>\n      <td>1</td>\n      <td>0</td>\n      <td>0</td>\n      <td>0</td>\n      <td>0</td>\n      <td>0</td>\n      <td>0</td>\n      <td>0</td>\n      <td>0</td>\n      <td>0</td>\n      <td>0</td>\n      <td>0</td>\n      <td>0</td>\n      <td>0</td>\n      <td>0</td>\n      <td>0</td>\n      <td>0</td>\n      <td>0</td>\n      <td>0</td>\n      <td>0</td>\n      <td>0</td>\n      <td>0</td>\n      <td>0</td>\n      <td>0</td>\n      <td>1</td>\n      <td>0</td>\n    </tr>\n  </tbody>\n</table>\n</div>"
          },
          "metadata": {}
        }
      ],
      "execution_count": 18,
      "metadata": {
        "jupyter": {
          "source_hidden": false,
          "outputs_hidden": false
        },
        "nteract": {
          "transient": {
            "deleting": false
          }
        }
      }
    },
    {
      "cell_type": "code",
      "source": [
        "# Let's check percentege of the positive/negative class after we have dropped some values in the cleaning part\n",
        "\n",
        "loan_data = data['loan_status'].value_counts()\n",
        "loan_data_norm = data['loan_status'].value_counts(normalize=True)\n",
        "\n",
        "print('Positive class: {}({} %)'.format(loan_data[0], round(loan_data_norm[0], 4)*100.0))\n",
        "print('Negative class: {}({} %)'.format(loan_data[1], round(loan_data_norm[1], 4)*100.0))\n",
        "print('Proportion:', round(loan_data[0] / loan_data[1], 2), ': 1')"
      ],
      "outputs": [
        {
          "output_type": "display_data",
          "data": {
            "application/vnd.livy.statement-meta+json": {
              "spark_pool": "Spark11",
              "session_id": 19,
              "statement_id": 19,
              "state": "finished",
              "livy_statement_state": "available",
              "queued_time": "2022-06-17T16:09:06.4395375Z",
              "session_start_time": null,
              "execution_start_time": "2022-06-17T16:12:21.4809392Z",
              "execution_finish_time": "2022-06-17T16:12:21.6281387Z"
            },
            "text/plain": "StatementMeta(Spark11, 19, 19, Finished, Available)"
          },
          "metadata": {}
        },
        {
          "output_type": "stream",
          "name": "stdout",
          "text": [
            "Positive class: 1013752(79.81 %)\nNegative class: 256465(20.19 %)\nProportion: 3.95 : 1\n"
          ]
        }
      ],
      "execution_count": 19,
      "metadata": {
        "jupyter": {
          "source_hidden": false,
          "outputs_hidden": false
        },
        "nteract": {
          "transient": {
            "deleting": false
          }
        }
      }
    },
    {
      "cell_type": "code",
      "source": [
        "#     REMINDER\n",
        "\n",
        "#     Confusion Matrix: a table showing correct predictions and types of incorrect predictions.\n",
        "#     Precision: the number of true positives divided by all positive predictions. Precision is also called Positive Predictive Value. It is a measure of a classifier’s exactness. Low precision indicates a high number of false positives.\n",
        "#     Recall: the number of true positives divided by the number of positive values in the test data. Recall is also called Sensitivity or the True Positive Rate. It is a measure of a classifier’s completeness. Low recall indicates a high number of false negatives.\n",
        "#     F1: Score: the weighted average of precision and recall."
      ],
      "outputs": [
        {
          "output_type": "display_data",
          "data": {
            "application/vnd.livy.statement-meta+json": {
              "spark_pool": "Spark11",
              "session_id": 19,
              "statement_id": 20,
              "state": "finished",
              "livy_statement_state": "available",
              "queued_time": "2022-06-17T16:09:06.4413618Z",
              "session_start_time": null,
              "execution_start_time": "2022-06-17T16:12:21.7382181Z",
              "execution_finish_time": "2022-06-17T16:12:21.8777646Z"
            },
            "text/plain": "StatementMeta(Spark11, 19, 20, Finished, Available)"
          },
          "metadata": {}
        }
      ],
      "execution_count": 20,
      "metadata": {
        "jupyter": {
          "source_hidden": false,
          "outputs_hidden": false
        },
        "nteract": {
          "transient": {
            "deleting": false
          }
        }
      }
    },
    {
      "cell_type": "code",
      "source": [
        "X = data_encoded.loc[:, data_encoded.columns != 'loan_status']\n",
        "y = data_encoded['loan_status']\n",
        "X_col = X.columns\n",
        "\n",
        "X_train, X_test, y_train, y_test = train_test_split(X, y, test_size=0.2, random_state=1)"
      ],
      "outputs": [
        {
          "output_type": "display_data",
          "data": {
            "application/vnd.livy.statement-meta+json": {
              "spark_pool": "Spark11",
              "session_id": 19,
              "statement_id": 21,
              "state": "finished",
              "livy_statement_state": "available",
              "queued_time": "2022-06-17T16:09:06.44381Z",
              "session_start_time": null,
              "execution_start_time": "2022-06-17T16:12:21.9790923Z",
              "execution_finish_time": "2022-06-17T16:12:23.7413134Z"
            },
            "text/plain": "StatementMeta(Spark11, 19, 21, Finished, Available)"
          },
          "metadata": {}
        }
      ],
      "execution_count": 21,
      "metadata": {
        "jupyter": {
          "source_hidden": false,
          "outputs_hidden": false
        },
        "nteract": {
          "transient": {
            "deleting": false
          }
        }
      }
    },
    {
      "cell_type": "code",
      "source": [
        "print(X_train.shape)\n",
        "print(y_train.shape)\n",
        "print(X_test.shape)\n",
        "print(y_test.shape)"
      ],
      "outputs": [
        {
          "output_type": "display_data",
          "data": {
            "application/vnd.livy.statement-meta+json": {
              "spark_pool": "Spark11",
              "session_id": 19,
              "statement_id": 22,
              "state": "finished",
              "livy_statement_state": "available",
              "queued_time": "2022-06-17T16:09:08.9521587Z",
              "session_start_time": null,
              "execution_start_time": "2022-06-17T16:12:23.9528413Z",
              "execution_finish_time": "2022-06-17T16:12:24.1232283Z"
            },
            "text/plain": "StatementMeta(Spark11, 19, 22, Finished, Available)"
          },
          "metadata": {}
        },
        {
          "output_type": "stream",
          "name": "stdout",
          "text": [
            "(1016173, 135)\n(1016173,)\n(254044, 135)\n(254044,)\n"
          ]
        }
      ],
      "execution_count": 22,
      "metadata": {
        "jupyter": {
          "source_hidden": false,
          "outputs_hidden": false
        },
        "nteract": {
          "transient": {
            "deleting": false
          }
        }
      }
    },
    {
      "cell_type": "code",
      "source": [
        "# Let's save encoded data to csv\n",
        "\n",
        "data.to_csv('***/Encoded_data.csv')  "
      ],
      "outputs": [
        {
          "output_type": "display_data",
          "data": {
            "application/vnd.livy.statement-meta+json": {
              "spark_pool": "Spark11",
              "session_id": 19,
              "statement_id": 23,
              "state": "finished",
              "livy_statement_state": "available",
              "queued_time": "2022-06-17T16:09:10.3667352Z",
              "session_start_time": null,
              "execution_start_time": "2022-06-17T16:12:24.2168449Z",
              "execution_finish_time": "2022-06-17T16:12:51.0921678Z"
            },
            "text/plain": "StatementMeta(Spark11, 19, 23, Finished, Available)"
          },
          "metadata": {}
        }
      ],
      "execution_count": 23,
      "metadata": {
        "jupyter": {
          "source_hidden": false,
          "outputs_hidden": false
        },
        "nteract": {
          "transient": {
            "deleting": false
          }
        }
      }
    },
    {
      "cell_type": "code",
      "source": [
        "# Since the features are varying in different ranges, we can have a problem\n",
        "# It is important that we rescale the feature so that the model evaluation time ddecreases\n",
        "\n",
        "scaler = MinMaxScaler()\n",
        "X_train = scaler.fit_transform(X_train)\n",
        "X_test = scaler.transform(X_test)"
      ],
      "outputs": [
        {
          "output_type": "display_data",
          "data": {
            "application/vnd.livy.statement-meta+json": {
              "spark_pool": "Spark11",
              "session_id": 19,
              "statement_id": 24,
              "state": "finished",
              "livy_statement_state": "available",
              "queued_time": "2022-06-17T16:09:10.6144135Z",
              "session_start_time": null,
              "execution_start_time": "2022-06-17T16:12:51.2156003Z",
              "execution_finish_time": "2022-06-17T16:12:53.9800113Z"
            },
            "text/plain": "StatementMeta(Spark11, 19, 24, Finished, Available)"
          },
          "metadata": {}
        }
      ],
      "execution_count": 24,
      "metadata": {
        "jupyter": {
          "source_hidden": false,
          "outputs_hidden": false
        },
        "nteract": {
          "transient": {
            "deleting": false
          }
        }
      }
    },
    {
      "cell_type": "code",
      "source": [
        "print(X_train.shape)\n",
        "print(y_train.shape)\n",
        "print(X_test.shape)\n",
        "print(y_test.shape)"
      ],
      "outputs": [
        {
          "output_type": "display_data",
          "data": {
            "application/vnd.livy.statement-meta+json": {
              "spark_pool": "Spark11",
              "session_id": 19,
              "statement_id": 25,
              "state": "finished",
              "livy_statement_state": "available",
              "queued_time": "2022-06-17T16:09:10.8055316Z",
              "session_start_time": null,
              "execution_start_time": "2022-06-17T16:12:54.0732046Z",
              "execution_finish_time": "2022-06-17T16:12:54.2164078Z"
            },
            "text/plain": "StatementMeta(Spark11, 19, 25, Finished, Available)"
          },
          "metadata": {}
        },
        {
          "output_type": "stream",
          "name": "stdout",
          "text": [
            "(1016173, 135)\n(1016173,)\n(254044, 135)\n(254044,)\n"
          ]
        }
      ],
      "execution_count": 25,
      "metadata": {
        "jupyter": {
          "source_hidden": false,
          "outputs_hidden": false
        },
        "nteract": {
          "transient": {
            "deleting": false
          }
        }
      }
    },
    {
      "cell_type": "code",
      "source": [
        "# Leaving this here just in case I need it for something\n",
        "\n",
        "# def return_scores(test, predicted):\n",
        "#     roc_auc_sc = roc_auc_score(test, predicted)\n",
        "#     accuracy_sc = accuracy_score(test, predicted)\n",
        "#     recall_sc = recall_score(test, predicted)\n",
        "#     f1_sc = f1_score(test, predicted)\n",
        "#     precision_sc = precision_score(test, predicted)\n",
        "\n",
        "#     return roc_auc_sc, accuracy_sc, recall_sc, f1_sc, precision_sc\n",
        "\n",
        "\n",
        "\n",
        "# def get_model_score(model, model_params):\n",
        "# cv = RepeatedStratifiedKFold(n_splits=2, n_repeats=1, random_state=1)\n",
        "#     rep = 1\n",
        "\n",
        "#     roc = []\n",
        "#     acc = []\n",
        "#     rec = []\n",
        "#     f1 = []\n",
        "#     prec = []\n",
        "\n",
        "#     model = model(**model_params)\n",
        "\n",
        "#     for train_index, test_index in cv.split(X, y):\n",
        "#         print(rep)\n",
        "#         X_train, X_test = X.iloc[train_index], X.iloc[test_index]\n",
        "#         y_train, y_test = y.iloc[train_index], y.iloc[test_index]\n",
        "#         model.fit(X_train, y_train)\n",
        "#         y_predict = model.predict(X_test)\n",
        "#         roc_auc_sc, accuracy_sc, recall_sc, f1_sc, precision_sc = return_scores(y_test, y_predict)\n",
        "#         roc.append(roc_auc_sc)\n",
        "#         acc.append(accuracy_sc)\n",
        "#         rec.append(recall_sc)\n",
        "#         f1.append(f1_sc)\n",
        "#         prec.append(precision_sc)\n",
        "#         rep += 1\n",
        "\n",
        "\n",
        "#     print('Mean ROC AUC score: {}'.format(np.mean(roc)))\n",
        "#     print('Mean accuracy score: {}'.format(np.mean(acc)))\n",
        "#     print('Mean recall score: {}'.format(np.mean(rec)))\n",
        "#     print('Mean F1 score: {}'.format(np.mean(f1)))\n",
        "#     print('Mean precision score: {}'.format(np.mean(prec)))\n"
      ],
      "outputs": [
        {
          "output_type": "display_data",
          "data": {
            "application/vnd.livy.statement-meta+json": {
              "spark_pool": "Spark11",
              "session_id": 19,
              "statement_id": 26,
              "state": "finished",
              "livy_statement_state": "available",
              "queued_time": "2022-06-17T16:09:10.9909545Z",
              "session_start_time": null,
              "execution_start_time": "2022-06-17T16:12:54.31567Z",
              "execution_finish_time": "2022-06-17T16:12:54.506393Z"
            },
            "text/plain": "StatementMeta(Spark11, 19, 26, Finished, Available)"
          },
          "metadata": {}
        }
      ],
      "execution_count": 26,
      "metadata": {
        "jupyter": {
          "source_hidden": false,
          "outputs_hidden": false
        },
        "nteract": {
          "transient": {
            "deleting": false
          }
        }
      }
    },
    {
      "cell_type": "code",
      "source": [
        "# accuracy was pretty high for training algorithms, but that value is misleading because our class is imbalanced\n",
        "# this explains why accuracy cannot be relied on in this problem\n",
        "# we can add penalties (add class weights) to make up for the low amount values in the class 1"
      ],
      "outputs": [
        {
          "output_type": "display_data",
          "data": {
            "application/vnd.livy.statement-meta+json": {
              "spark_pool": "Spark11",
              "session_id": 19,
              "statement_id": 27,
              "state": "finished",
              "livy_statement_state": "available",
              "queued_time": "2022-06-17T16:09:11.2069576Z",
              "session_start_time": null,
              "execution_start_time": "2022-06-17T16:12:54.605964Z",
              "execution_finish_time": "2022-06-17T16:12:54.7486868Z"
            },
            "text/plain": "StatementMeta(Spark11, 19, 27, Finished, Available)"
          },
          "metadata": {}
        }
      ],
      "execution_count": 27,
      "metadata": {
        "jupyter": {
          "source_hidden": false,
          "outputs_hidden": false
        },
        "nteract": {
          "transient": {
            "deleting": false
          }
        }
      }
    },
    {
      "cell_type": "code",
      "source": [
        "# we have two classes - class_1 and class_2\n",
        "# If the model makes a mistake where the true label is class_2 \n",
        "# it is going to be penalized 10 times more than if it makes a mistake on a sample where the true class is class_1\n",
        "# we want to have something like this because given the class distribution in the data, \n",
        "# the model will have a tendency of overfitting on the class_1 since it is overpopulated by default \n",
        "# by setting the class weights we are imposing an implicit constraint on the model that it is equally \n",
        "# bad to make a wrong prediction on 4 instances of the class_1 and 1 wrong prediction on an instance of the class_2."
      ],
      "outputs": [
        {
          "output_type": "display_data",
          "data": {
            "application/vnd.livy.statement-meta+json": {
              "spark_pool": "Spark11",
              "session_id": 19,
              "statement_id": 28,
              "state": "finished",
              "livy_statement_state": "available",
              "queued_time": "2022-06-17T16:09:11.3940698Z",
              "session_start_time": null,
              "execution_start_time": "2022-06-17T16:12:54.8537245Z",
              "execution_finish_time": "2022-06-17T16:12:55.0008731Z"
            },
            "text/plain": "StatementMeta(Spark11, 19, 28, Finished, Available)"
          },
          "metadata": {}
        }
      ],
      "execution_count": 28,
      "metadata": {
        "jupyter": {
          "source_hidden": false,
          "outputs_hidden": false
        },
        "nteract": {
          "transient": {
            "deleting": false
          }
        }
      }
    },
    {
      "cell_type": "code",
      "source": [
        "# Scoring is set to roc_auc\n",
        "# roc_auc_score is defined as the area under the ROC curve, \n",
        "# which is the curve having False Positive Rate on the x-axis and True Positive Rate on the y-axis at all classification thresholds.\n",
        "# When 0.5 < AUC < 1, there is a high chance that the classifier will be able to distinguish the positive class values from the negative class values. \n",
        "# This is so because the classifier is able to detect more numbers of True positives and True negatives than False negatives and False positives.\n",
        "# https://www.analyticsvidhya.com/blog/2020/06/auc-roc-curve-machine-learning/\n",
        "\n",
        "\n",
        "def algorithm_pipeline(X_train, X_test, y_train, y_test, \n",
        "                       model, param_grid, cv=5, scoring_fit='roc_auc',\n",
        "                       do_probabilities = False):\n",
        "    gs = GridSearchCV(\n",
        "        estimator=model,\n",
        "        param_grid=param_grid, \n",
        "        cv=cv, \n",
        "        n_jobs=-1, \n",
        "        scoring=scoring_fit,\n",
        "        verbose=2\n",
        "    )\n",
        "    fitted_model = gs.fit(X_train, y_train)\n",
        "    \n",
        "    if do_probabilities:\n",
        "      pred = fitted_model.predict_proba(X_test)\n",
        "    else:\n",
        "      pred = fitted_model.predict(X_test)\n",
        "    \n",
        "    return fitted_model, pred"
      ],
      "outputs": [
        {
          "output_type": "display_data",
          "data": {
            "application/vnd.livy.statement-meta+json": {
              "spark_pool": "Spark11",
              "session_id": 19,
              "statement_id": 29,
              "state": "finished",
              "livy_statement_state": "available",
              "queued_time": "2022-06-17T16:09:11.5835967Z",
              "session_start_time": null,
              "execution_start_time": "2022-06-17T16:12:55.1200085Z",
              "execution_finish_time": "2022-06-17T16:12:55.2593996Z"
            },
            "text/plain": "StatementMeta(Spark11, 19, 29, Finished, Available)"
          },
          "metadata": {}
        }
      ],
      "execution_count": 29,
      "metadata": {
        "jupyter": {
          "source_hidden": false,
          "outputs_hidden": false
        },
        "nteract": {
          "transient": {
            "deleting": false
          }
        }
      }
    },
    {
      "cell_type": "code",
      "source": [
        "# About XGBClassifier and how it works can be found on this link: https://docs.aws.amazon.com/sagemaker/latest/dg/xgboost-HowItWorks.html\n",
        "# The reason why it takes so long to execute is because it is an accurate algorithm, \n",
        "# but it is not very scalable as during each split find procedure it iterates over all entries of input data. \n",
        "# In practice, this means long training time\n",
        "\n",
        "model = XGBClassifier()\n",
        "param_grid = {\n",
        "    'n_estimators': [50],\n",
        "    'scale_pos_weight': [4],\n",
        "    'use_label_encoder': [False]    \n",
        "    }\n",
        "\n",
        "xgb_model, xgb_y_pred = algorithm_pipeline(X_train, X_test, y_train, y_test, model, \n",
        "                                 param_grid, cv=2)"
      ],
      "outputs": [
        {
          "output_type": "display_data",
          "data": {
            "application/vnd.livy.statement-meta+json": {
              "spark_pool": "Spark11",
              "session_id": 19,
              "statement_id": 30,
              "state": "finished",
              "livy_statement_state": "available",
              "queued_time": "2022-06-17T16:09:11.7395811Z",
              "session_start_time": null,
              "execution_start_time": "2022-06-17T16:12:55.3770737Z",
              "execution_finish_time": "2022-06-17T16:18:18.8897309Z"
            },
            "text/plain": "StatementMeta(Spark11, 19, 30, Finished, Available)"
          },
          "metadata": {}
        },
        {
          "output_type": "stream",
          "name": "stderr",
          "text": [
            "[Parallel(n_jobs=-1)]: Using backend LokyBackend with 4 concurrent workers.\n"
          ]
        },
        {
          "output_type": "stream",
          "name": "stdout",
          "text": [
            "[CV]  n_estimators=50, scale_pos_weight=4, use_label_encoder=False, total= 1.7min\n[CV]  n_estimators=50, scale_pos_weight=4, use_label_encoder=False, total= 1.7min\n[15:43:30] WARNING: ../src/learner.cc:1095: Starting in XGBoost 1.3.0, the default evaluation metric used with the objective 'binary:logistic' was changed from 'error' to 'logloss'. Explicitly set eval_metric if you'd like to restore the old behavior.\nFitting 2 folds for each of 1 candidates, totalling 2 fits\n[CV] n_estimators=50, scale_pos_weight=4, use_label_encoder=False ....\n[CV] n_estimators=50, scale_pos_weight=4, use_label_encoder=False ....\n[16:13:05] WARNING: ../src/learner.cc:1095: Starting in XGBoost 1.3.0, the default evaluation metric used with the objective 'binary:logistic' was changed from 'error' to 'logloss'. Explicitly set eval_metric if you'd like to restore the old behavior.\n[16:13:06] WARNING: ../src/learner.cc:1095: Starting in XGBoost 1.3.0, the default evaluation metric used with the objective 'binary:logistic' was changed from 'error' to 'logloss'. Explicitly set eval_metric if you'd like to restore the old behavior.\n[CV]  n_estimators=50, scale_pos_weight=4, use_label_encoder=False, total= 2.7min\n[CV]  n_estimators=50, scale_pos_weight=4, use_label_encoder=False, total= 2.7min\n[16:15:47] WARNING: ../src/learner.cc:1095: Starting in XGBoost 1.3.0, the default evaluation metric used with the objective 'binary:logistic' was changed from 'error' to 'logloss'. Explicitly set eval_metric if you'd like to restore the old behavior.\n"
          ]
        }
      ],
      "execution_count": 30,
      "metadata": {
        "jupyter": {
          "source_hidden": false,
          "outputs_hidden": true
        },
        "nteract": {
          "transient": {
            "deleting": false
          }
        }
      }
    },
    {
      "cell_type": "code",
      "source": [
        "# ROC_AUC score is 0.719\n",
        "\n",
        "xgb_estimator = xgb_model.best_estimator_\n",
        "xbg_best_score = xgb_model.best_score_\n",
        "xgb_best_params = xgb_model.best_params_\n",
        "\n",
        "print(xbg_best_score)\n",
        "print(xgb_best_params)"
      ],
      "outputs": [
        {
          "output_type": "display_data",
          "data": {
            "application/vnd.livy.statement-meta+json": {
              "spark_pool": "Spark11",
              "session_id": 19,
              "statement_id": 31,
              "state": "finished",
              "livy_statement_state": "available",
              "queued_time": "2022-06-17T16:09:11.9456409Z",
              "session_start_time": null,
              "execution_start_time": "2022-06-17T16:18:19.0720917Z",
              "execution_finish_time": "2022-06-17T16:18:19.2272895Z"
            },
            "text/plain": "StatementMeta(Spark11, 19, 31, Finished, Available)"
          },
          "metadata": {}
        },
        {
          "output_type": "stream",
          "name": "stdout",
          "text": [
            "0.7192166023516142\n{'n_estimators': 50, 'scale_pos_weight': 4, 'use_label_encoder': False}\n"
          ]
        }
      ],
      "execution_count": 31,
      "metadata": {
        "jupyter": {
          "source_hidden": false,
          "outputs_hidden": false
        },
        "nteract": {
          "transient": {
            "deleting": false
          }
        }
      }
    },
    {
      "cell_type": "code",
      "source": [
        "# As the name suggests, \"Random Forest is a classifier that contains a number of decision trees on various subsets of the given dataset \n",
        "# and takes the average to improve the predictive accuracy of that dataset.\" \n",
        "# Instead of relying on one decision tree, the random forest takes the prediction from each tree and based on the majority votes of predictions, \n",
        "# and it predicts the final output.\n",
        "# The greater number of trees in the forest leads to higher accuracy and prevents the problem of overfitting. \n",
        "\n",
        "model = RandomForestClassifier()\n",
        "param_grid = {\n",
        "    'n_estimators': [50],\n",
        "    'class_weight': [{0:1, 1:4}]\n",
        "}\n",
        "\n",
        "rf_model, rf_y_pred = algorithm_pipeline(X_train, X_test, y_train, y_test, model, \n",
        "                                 param_grid, cv=2)"
      ],
      "outputs": [
        {
          "output_type": "display_data",
          "data": {
            "application/vnd.livy.statement-meta+json": {
              "spark_pool": "Spark11",
              "session_id": 19,
              "statement_id": 32,
              "state": "finished",
              "livy_statement_state": "available",
              "queued_time": "2022-06-17T16:09:12.1369403Z",
              "session_start_time": null,
              "execution_start_time": "2022-06-17T16:18:19.3388927Z",
              "execution_finish_time": "2022-06-17T16:23:59.9965535Z"
            },
            "text/plain": "StatementMeta(Spark11, 19, 32, Finished, Available)"
          },
          "metadata": {}
        },
        {
          "output_type": "stream",
          "name": "stdout",
          "text": [
            "Fitting 2 folds for each of 1 candidates, totalling 2 fits\n[CV] class_weight={0: 1, 1: 4}, n_estimators=50 ......................\n[CV] class_weight={0: 1, 1: 4}, n_estimators=50 ......................\n[CV] ....... class_weight={0: 1, 1: 4}, n_estimators=50, total= 1.7min\n[CV] ....... class_weight={0: 1, 1: 4}, n_estimators=50, total= 1.7min\n"
          ]
        }
      ],
      "execution_count": 32,
      "metadata": {
        "jupyter": {
          "source_hidden": false,
          "outputs_hidden": true
        },
        "nteract": {
          "transient": {
            "deleting": false
          }
        }
      }
    },
    {
      "cell_type": "code",
      "source": [
        "# ROC_AUC score is 0.697\n",
        "\n",
        "rf_estimator = rf_model.best_estimator_\n",
        "rf_best_score = rf_model.best_score_\n",
        "rf_best_params = rf_model.best_params_\n",
        "\n",
        "print(rf_best_score)\n",
        "print(rf_best_params)"
      ],
      "outputs": [
        {
          "output_type": "display_data",
          "data": {
            "application/vnd.livy.statement-meta+json": {
              "spark_pool": "Spark11",
              "session_id": 19,
              "statement_id": 33,
              "state": "finished",
              "livy_statement_state": "available",
              "queued_time": "2022-06-17T16:09:12.2703496Z",
              "session_start_time": null,
              "execution_start_time": "2022-06-17T16:24:00.1953085Z",
              "execution_finish_time": "2022-06-17T16:24:00.3608044Z"
            },
            "text/plain": "StatementMeta(Spark11, 19, 33, Finished, Available)"
          },
          "metadata": {}
        },
        {
          "output_type": "stream",
          "name": "stdout",
          "text": [
            "0.6975254334454482\n{'class_weight': {0: 1, 1: 4}, 'n_estimators': 50}\n"
          ]
        }
      ],
      "execution_count": 33,
      "metadata": {
        "jupyter": {
          "source_hidden": false,
          "outputs_hidden": false
        },
        "nteract": {
          "transient": {
            "deleting": false
          }
        }
      }
    },
    {
      "cell_type": "code",
      "source": [
        "# DecisionTreeClassifier\n",
        "# We can fit a DecisionTreeClassifier model on this dataset since it is a good model to \n",
        "# test due to it's sensitivity to the class distribution in the training dataset.\n",
        "# Decision trees frequently perform well on imbalanced data. \n",
        "# They work by learning a hierarchy of if/else questions and this can force both classes to be addressed.\n",
        "# Also, let's try evluating the model using repeated stratified k-fold cv\n",
        "\n",
        "model = DecisionTreeClassifier()\n",
        "param_grid = {\n",
        "    'class_weight': [{0:1, 1:4}]\n",
        "}\n",
        "\n",
        "dtc_model, dtc_y_pred = algorithm_pipeline(X_train, X_test, y_train, y_test, model, \n",
        "                                 param_grid, cv=2)"
      ],
      "outputs": [
        {
          "output_type": "display_data",
          "data": {
            "application/vnd.livy.statement-meta+json": {
              "spark_pool": "Spark11",
              "session_id": 19,
              "statement_id": 34,
              "state": "finished",
              "livy_statement_state": "available",
              "queued_time": "2022-06-17T16:09:12.5095095Z",
              "session_start_time": null,
              "execution_start_time": "2022-06-17T16:24:00.5415493Z",
              "execution_finish_time": "2022-06-17T16:25:14.6208695Z"
            },
            "text/plain": "StatementMeta(Spark11, 19, 34, Finished, Available)"
          },
          "metadata": {}
        },
        {
          "output_type": "stream",
          "name": "stdout",
          "text": [
            "Fitting 2 folds for each of 1 candidates, totalling 2 fits\n[CV] class_weight={0: 1, 1: 4} .......................................\n[CV] class_weight={0: 1, 1: 4} .......................................\n[CV] ........................ class_weight={0: 1, 1: 4}, total=  23.0s\n[CV] ........................ class_weight={0: 1, 1: 4}, total=  23.6s\n"
          ]
        }
      ],
      "execution_count": 34,
      "metadata": {
        "jupyter": {
          "source_hidden": false,
          "outputs_hidden": false
        },
        "nteract": {
          "transient": {
            "deleting": false
          }
        }
      }
    },
    {
      "cell_type": "code",
      "source": [
        "rf_estimator = dtc_model.best_estimator_\n",
        "rf_best_score = dtc_model.best_score_\n",
        "rf_best_params = dtc_model.best_params_\n",
        "\n",
        "print(rf_best_score)\n",
        "print(rf_best_params)"
      ],
      "outputs": [
        {
          "output_type": "display_data",
          "data": {
            "application/vnd.livy.statement-meta+json": {
              "spark_pool": "Spark11",
              "session_id": 19,
              "statement_id": 35,
              "state": "finished",
              "livy_statement_state": "available",
              "queued_time": "2022-06-17T16:09:12.8700832Z",
              "session_start_time": null,
              "execution_start_time": "2022-06-17T16:25:14.8213014Z",
              "execution_finish_time": "2022-06-17T16:25:14.9958225Z"
            },
            "text/plain": "StatementMeta(Spark11, 19, 35, Finished, Available)"
          },
          "metadata": {}
        },
        {
          "output_type": "stream",
          "name": "stdout",
          "text": [
            "0.5509641263020226\n{'class_weight': {0: 1, 1: 4}}\n"
          ]
        }
      ],
      "execution_count": 35,
      "metadata": {
        "jupyter": {
          "source_hidden": false,
          "outputs_hidden": false
        },
        "nteract": {
          "transient": {
            "deleting": false
          }
        }
      }
    },
    {
      "cell_type": "code",
      "source": [
        "# TODO in the future: try LogisticRegression"
      ],
      "outputs": [
        {
          "output_type": "display_data",
          "data": {
            "application/vnd.livy.statement-meta+json": {
              "spark_pool": "Spark11",
              "session_id": 19,
              "statement_id": 36,
              "state": "finished",
              "livy_statement_state": "available",
              "queued_time": "2022-06-17T16:09:13.1714265Z",
              "session_start_time": null,
              "execution_start_time": "2022-06-17T16:25:15.2948212Z",
              "execution_finish_time": "2022-06-17T16:25:15.4496967Z"
            },
            "text/plain": "StatementMeta(Spark11, 19, 36, Finished, Available)"
          },
          "metadata": {}
        }
      ],
      "execution_count": 36,
      "metadata": {
        "jupyter": {
          "source_hidden": false,
          "outputs_hidden": false
        },
        "nteract": {
          "transient": {
            "deleting": false
          }
        }
      }
    },
    {
      "cell_type": "code",
      "source": [
        "# XGBClassifier had the best performance out of all these three classiififers with the roc_auc_score ~ 0.719\n",
        "# Let's try to find best hyperparameters and check if the classifier can perform even better on the test set\n",
        "\n",
        "model = XGBClassifier()\n",
        "param_grid = {\n",
        "    'n_estimators': [50],\n",
        "    'scale_pos_weight': [4],\n",
        "    'use_label_encoder': [False],\n",
        "    'learning_rate': [0.0001, 0.001, 0.01, 0.1, 0.2, 0.3]\n",
        "\n",
        "    }\n",
        "xgb_1_model, xgb_y_1_pred = algorithm_pipeline(X_train, X_test, y_train, y_test, model, \n",
        "                                 param_grid, cv=2)"
      ],
      "outputs": [
        {
          "output_type": "display_data",
          "data": {
            "application/vnd.livy.statement-meta+json": {
              "spark_pool": "Spark11",
              "session_id": 19,
              "statement_id": 37,
              "state": "submitted",
              "livy_statement_state": "running",
              "queued_time": "2022-06-17T16:26:25.996678Z",
              "session_start_time": null,
              "execution_start_time": "2022-06-17T16:26:26.1440755Z",
              "execution_finish_time": null
            },
            "text/plain": "StatementMeta(Spark11, 19, 37, Submitted, Running)"
          },
          "metadata": {}
        },
        {
          "output_type": "stream",
          "name": "stdout",
          "text": [
            "Fitting 2 folds for each of 6 candidates, totalling 12 fits\n[CV] learning_rate=0.001, n_estimators=50, scale_pos_weight=4, use_label_encoder=False \n[CV] learning_rate=0.001, n_estimators=50, scale_pos_weight=4, use_label_encoder=False \n[CV] learning_rate=0.0001, n_estimators=50, scale_pos_weight=4, use_label_encoder=False \n[CV] learning_rate=0.0001, n_estimators=50, scale_pos_weight=4, use_label_encoder=False \n[16:26:38] WARNING: ../src/learner.cc:1095: Starting in XGBoost 1.3.0, the default evaluation metric used with the objective 'binary:logistic' was changed from 'error' to 'logloss'. Explicitly set eval_metric if you'd like to restore the old behavior.\n[16:26:39] WARNING: ../src/learner.cc:1095: Starting in XGBoost 1.3.0, the default evaluation metric used with the objective 'binary:logistic' was changed from 'error' to 'logloss'. Explicitly set eval_metric if you'd like to restore the old behavior.\n[16:26:47] WARNING: ../src/learner.cc:1095: Starting in XGBoost 1.3.0, the default evaluation metric used with the objective 'binary:logistic' was changed from 'error' to 'logloss'. Explicitly set eval_metric if you'd like to restore the old behavior.\n[16:26:47] WARNING: ../src/learner.cc:1095: Starting in XGBoost 1.3.0, the default evaluation metric used with the objective 'binary:logistic' was changed from 'error' to 'logloss'. Explicitly set eval_metric if you'd like to restore the old behavior.\n[CV]  learning_rate=0.001, n_estimators=50, scale_pos_weight=4, use_label_encoder=False, total= 5.3min\n[CV] learning_rate=0.01, n_estimators=50, scale_pos_weight=4, use_label_encoder=False \n[CV]  learning_rate=0.001, n_estimators=50, scale_pos_weight=4, use_label_encoder=False, total= 5.3min\n[CV] learning_rate=0.01, n_estimators=50, scale_pos_weight=4, use_label_encoder=False \n[CV]  learning_rate=0.0001, n_estimators=50, scale_pos_weight=4, use_label_encoder=False, total= 5.4min\n[CV] learning_rate=0.1, n_estimators=50, scale_pos_weight=4, use_label_encoder=False \n[CV]  learning_rate=0.0001, n_estimators=50, scale_pos_weight=4, use_label_encoder=False, total= 5.4min\n[CV] learning_rate=0.1, n_estimators=50, scale_pos_weight=4, use_label_encoder=False \n[16:31:59] WARNING: ../src/learner.cc:1095: Starting in XGBoost 1.3.0, the default evaluation metric used with the objective 'binary:logistic' was changed from 'error' to 'logloss'. Explicitly set eval_metric if you'd like to restore the old behavior.\n[16:31:59] WARNING: ../src/learner.cc:1095: Starting in XGBoost 1.3.0, the default evaluation metric used with the objective 'binary:logistic' was changed from 'error' to 'logloss'. Explicitly set eval_metric if you'd like to restore the old behavior.\n[16:32:08] WARNING: ../src/learner.cc:1095: Starting in XGBoost 1.3.0, the default evaluation metric used with the objective 'binary:logistic' was changed from 'error' to 'logloss'. Explicitly set eval_metric if you'd like to restore the old behavior.\n[16:32:11] WARNING: ../src/learner.cc:1095: Starting in XGBoost 1.3.0, the default evaluation metric used with the objective 'binary:logistic' was changed from 'error' to 'logloss'. Explicitly set eval_metric if you'd like to restore the old behavior.\nFitting 2 folds for each of 6 candidates, totalling 12 fits\n[CV] learning_rate=0.001, n_estimators=50, scale_pos_weight=4, use_label_encoder=False \n[CV] learning_rate=0.001, n_estimators=50, scale_pos_weight=4, use_label_encoder=False \n[CV] learning_rate=0.0001, n_estimators=50, scale_pos_weight=4, use_label_encoder=False \n[CV] learning_rate=0.0001, n_estimators=50, scale_pos_weight=4, use_label_encoder=False \n[16:26:38] WARNING: ../src/learner.cc:1095: Starting in XGBoost 1.3.0, the default evaluation metric used with the objective 'binary:logistic' was changed from 'error' to 'logloss'. Explicitly set eval_metric if you'd like to restore the old behavior.\n[16:26:39] WARNING: ../src/learner.cc:1095: Starting in XGBoost 1.3.0, the default evaluation metric used with the objective 'binary:logistic' was changed from 'error' to 'logloss'. Explicitly set eval_metric if you'd like to restore the old behavior.\n[16:26:47] WARNING: ../src/learner.cc:1095: Starting in XGBoost 1.3.0, the default evaluation metric used with the objective 'binary:logistic' was changed from 'error' to 'logloss'. Explicitly set eval_metric if you'd like to restore the old behavior.\n[16:26:47] WARNING: ../src/learner.cc:1095: Starting in XGBoost 1.3.0, the default evaluation metric used with the objective 'binary:logistic' was changed from 'error' to 'logloss'. Explicitly set eval_metric if you'd like to restore the old behavior.\n[CV]  learning_rate=0.001, n_estimators=50, scale_pos_weight=4, use_label_encoder=False, total= 5.3min\n[CV] learning_rate=0.01, n_estimators=50, scale_pos_weight=4, use_label_encoder=False \n[CV]  learning_rate=0.001, n_estimators=50, scale_pos_weight=4, use_label_encoder=False, total= 5.3min\n[CV] learning_rate=0.01, n_estimators=50, scale_pos_weight=4, use_label_encoder=False \n[CV]  learning_rate=0.0001, n_estimators=50, scale_pos_weight=4, use_label_encoder=False, total= 5.4min\n[CV] learning_rate=0.1, n_estimators=50, scale_pos_weight=4, use_label_encoder=False \n[CV]  learning_rate=0.0001, n_estimators=50, scale_pos_weight=4, use_label_encoder=False, total= 5.4min\n[CV] learning_rate=0.1, n_estimators=50, scale_pos_weight=4, use_label_encoder=False \n[16:31:59] WARNING: ../src/learner.cc:1095: Starting in XGBoost 1.3.0, the default evaluation metric used with the objective 'binary:logistic' was changed from 'error' to 'logloss'. Explicitly set eval_metric if you'd like to restore the old behavior.\n[16:31:59] WARNING: ../src/learner.cc:1095: Starting in XGBoost 1.3.0, the default evaluation metric used with the objective 'binary:logistic' was changed from 'error' to 'logloss'. Explicitly set eval_metric if you'd like to restore the old behavior.\n[16:32:08] WARNING: ../src/learner.cc:1095: Starting in XGBoost 1.3.0, the default evaluation metric used with the objective 'binary:logistic' was changed from 'error' to 'logloss'. Explicitly set eval_metric if you'd like to restore the old behavior.\n[16:32:11] WARNING: ../src/learner.cc:1095: Starting in XGBoost 1.3.0, the default evaluation metric used with the objective 'binary:logistic' was changed from 'error' to 'logloss'. Explicitly set eval_metric if you'd like to restore the old behavior.\n[CV]  learning_rate=0.01, n_estimators=50, scale_pos_weight=4, use_label_encoder=False, total= 5.5min\n[CV] learning_rate=0.2, n_estimators=50, scale_pos_weight=4, use_label_encoder=False \n[CV]  learning_rate=0.01, n_estimators=50, scale_pos_weight=4, use_label_encoder=False, total= 5.5min\n[CV] learning_rate=0.2, n_estimators=50, scale_pos_weight=4, use_label_encoder=False \n[CV]  learning_rate=0.1, n_estimators=50, scale_pos_weight=4, use_label_encoder=False, total= 5.5min\n[CV] learning_rate=0.3, n_estimators=50, scale_pos_weight=4, use_label_encoder=False \n[CV]  learning_rate=0.1, n_estimators=50, scale_pos_weight=4, use_label_encoder=False, total= 5.5min\n[CV] learning_rate=0.3, n_estimators=50, scale_pos_weight=4, use_label_encoder=False \n[16:37:28] WARNING: ../src/learner.cc:1095: Starting in XGBoost 1.3.0, the default evaluation metric used with the objective 'binary:logistic' was changed from 'error' to 'logloss'. Explicitly set eval_metric if you'd like to restore the old behavior.\n[16:37:29] WARNING: ../src/learner.cc:1095: Starting in XGBoost 1.3.0, the default evaluation metric used with the objective 'binary:logistic' was changed from 'error' to 'logloss'. Explicitly set eval_metric if you'd like to restore the old behavior.\n[16:37:37] WARNING: ../src/learner.cc:1095: Starting in XGBoost 1.3.0, the default evaluation metric used with the objective 'binary:logistic' was changed from 'error' to 'logloss'. Explicitly set eval_metric if you'd like to restore the old behavior.\n[16:37:38] WARNING: ../src/learner.cc:1095: Starting in XGBoost 1.3.0, the default evaluation metric used with the objective 'binary:logistic' was changed from 'error' to 'logloss'. Explicitly set eval_metric if you'd like to restore the old behavior.\n[CV]  learning_rate=0.2, n_estimators=50, scale_pos_weight=4, use_label_encoder=False, total= 5.4min\n[CV]  learning_rate=0.2, n_estimators=50, scale_pos_weight=4, use_label_encoder=False, total= 5.4min\n[CV]  learning_rate=0.3, n_estimators=50, scale_pos_weight=4, use_label_encoder=False, total= 5.3min\n[CV]  learning_rate=0.3, n_estimators=50, scale_pos_weight=4, use_label_encoder=False, total= 5.4min\n[16:42:49] WARNING: ../src/learner.cc:1095: Starting in XGBoost 1.3.0, the default evaluation metric used with the objective 'binary:logistic' was changed from 'error' to 'logloss'. Explicitly set eval_metric if you'd like to restore the old behavior.\n"
          ]
        }
      ],
      "execution_count": 37,
      "metadata": {
        "jupyter": {
          "source_hidden": false,
          "outputs_hidden": true
        },
        "nteract": {
          "transient": {
            "deleting": false
          }
        }
      }
    },
    {
      "cell_type": "code",
      "source": [
        "# We got the same score as with the previous XGBClassifier\n",
        "\n",
        "xgb_1_estimator = xgb_1_model.best_estimator_\n",
        "xgb_1_best_score = xgb_1_model.best_score_\n",
        "xgb_1_best_params = xgb_1_model.best_params_\n",
        "\n",
        "print(xgb_1_best_score)\n",
        "print(xgb_1_best_params)"
      ],
      "outputs": [
        {
          "output_type": "display_data",
          "data": {
            "application/vnd.livy.statement-meta+json": {
              "spark_pool": "Spark11",
              "session_id": 19,
              "statement_id": 41,
              "state": "finished",
              "livy_statement_state": "available",
              "queued_time": "2022-06-17T16:45:56.7799339Z",
              "session_start_time": null,
              "execution_start_time": "2022-06-17T16:45:56.8722819Z",
              "execution_finish_time": "2022-06-17T16:45:57.0152256Z"
            },
            "text/plain": "StatementMeta(Spark11, 19, 41, Finished, Available)"
          },
          "metadata": {}
        },
        {
          "output_type": "stream",
          "name": "stdout",
          "text": [
            "0.7192166023516142\n{'learning_rate': 0.3, 'n_estimators': 50, 'scale_pos_weight': 4, 'use_label_encoder': False}\n"
          ]
        }
      ],
      "execution_count": 41,
      "metadata": {
        "jupyter": {
          "source_hidden": false,
          "outputs_hidden": false
        },
        "nteract": {
          "transient": {
            "deleting": false
          }
        }
      }
    },
    {
      "cell_type": "code",
      "source": [
        "# Classifier did a bit better than the last time abs\n",
        "# Precision and recall values are not great, so maybe we should try to tweak the hyperparameters better, add/remove feattures or even use different\n",
        "# scoring methog in the cross validation\n",
        "\n",
        "y_pred = xgb_1_estimator.predict(X_test)\n",
        "y_prob = xgb_1_estimator.predict_proba(X_test)[:,1]\n",
        "\n",
        "score = roc_auc_score(y_test, y_prob)\n",
        "matrix = confusion_matrix(y_test, y_pred)\n",
        "print('score:', (score))\n",
        "print('Classification report:\\n {}\\n'.format(classification_report(y_test, y_pred)))\n",
        "print('Confusion matrix:\\n {}\\n'.format(matrix))"
      ],
      "outputs": [
        {
          "output_type": "display_data",
          "data": {
            "application/vnd.livy.statement-meta+json": {
              "spark_pool": "Spark11",
              "session_id": 19,
              "statement_id": 53,
              "state": "finished",
              "livy_statement_state": "available",
              "queued_time": "2022-06-17T17:01:01.0448858Z",
              "session_start_time": null,
              "execution_start_time": "2022-06-17T17:01:01.1534353Z",
              "execution_finish_time": "2022-06-17T17:01:03.0759681Z"
            },
            "text/plain": "StatementMeta(Spark11, 19, 53, Finished, Available)"
          },
          "metadata": {}
        },
        {
          "output_type": "stream",
          "name": "stdout",
          "text": [
            "score: 0.7218408941085838\nClassification report:\n               precision    recall  f1-score   support\n\n           0       0.89      0.64      0.74    202464\n           1       0.32      0.68      0.44     51580\n\n    accuracy                           0.65    254044\n   macro avg       0.61      0.66      0.59    254044\nweighted avg       0.77      0.65      0.68    254044\n\n\nConfusion matrix:\n [[129276  73188]\n [ 16350  35230]]\n\n"
          ]
        }
      ],
      "execution_count": 53,
      "metadata": {
        "jupyter": {
          "source_hidden": false,
          "outputs_hidden": false
        },
        "nteract": {
          "transient": {
            "deleting": false
          }
        }
      }
    }
  ],
  "metadata": {
    "kernelspec": {
      "name": "synapse_pyspark",
      "language": "Python",
      "display_name": "Synapse PySpark"
    },
    "language_info": {
      "name": "python"
    },
    "kernel_info": {
      "name": "synapse_pyspark"
    },
    "description": null,
    "save_output": true,
    "synapse_widget": {
      "version": "0.1",
      "state": {}
    }
  },
  "nbformat": 4,
  "nbformat_minor": 2
}